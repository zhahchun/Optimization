{
 "cells": [
  {
   "cell_type": "markdown",
   "metadata": {},
   "source": [
    "# Least Squares Example: Polynomial Regression\n",
    "\n",
    "Suppose we've been given the following 9 input/output data pairs:"
   ]
  },
  {
   "cell_type": "code",
   "execution_count": 1,
   "metadata": {},
   "outputs": [
    {
     "data": {
      "image/png": "[encoded data removed]",
      "text/plain": [
       "Figure(PyObject <Figure size 800x400 with 1 Axes>)"
      ]
     },
     "metadata": {},
     "output_type": "display_data"
    }
   ],
   "source": [
    "# define (x,y) coordinates of the points\n",
    "x = [ 1, 2, 3, 4, 5, 6, 7, 8, 9 ]\n",
    "y = [ 1, 3, 0, 1, 2, 4, 6, 7, 5 ]\n",
    "\n",
    "# We can use the PyPlot package to graph these points\n",
    "using PyPlot\n",
    "figure(figsize=(8,4))\n",
    "plot(x,y,\"r.\", markersize=10)\n",
    "axis([0,10,-2,8])\n",
    "grid()"
   ]
  },
  {
   "cell_type": "markdown",
   "metadata": {},
   "source": [
    "These points look like they might fit a polynomial of degree 3 (highest order term is $x^3$). Let's try fitting a polynomial to these points:"
   ]
  },
  {
   "cell_type": "code",
   "execution_count": 2,
   "metadata": {},
   "outputs": [
    {
     "data": {
      "text/plain": [
       "9×4 Matrix{Float64}:\n",
       "   1.0   1.0  1.0  1.0\n",
       "   8.0   4.0  2.0  1.0\n",
       "  27.0   9.0  3.0  1.0\n",
       "  64.0  16.0  4.0  1.0\n",
       " 125.0  25.0  5.0  1.0\n",
       " 216.0  36.0  6.0  1.0\n",
       " 343.0  49.0  7.0  1.0\n",
       " 512.0  64.0  8.0  1.0\n",
       " 729.0  81.0  9.0  1.0"
      ]
     },
     "metadata": {},
     "output_type": "display_data"
    }
   ],
   "source": [
    "# order of polynomial to use\n",
    "k = 3\n",
    "\n",
    "# fit using a function of the form f(x) = p x^k + q x^(k-1) + ... + rk x + s\n",
    "\n",
    "# our matrix A will need to have m rows, where m is the number of data points\n",
    "m = length(x)\n",
    "# initialize A to be a matrix of zeros with m rows and k+1 columns\n",
    "# (there will be coefficients on x^3, x^2, x^1, and x^0, so 4 columns)\n",
    "A = zeros(m,k+1)\n",
    "\n",
    "# now loop over each row and each column\n",
    "# the ij'th entry of A will be x_i ^ (k+1 - j)\n",
    "# e.g., row 1 column 1: x_1 ^ (4-1) = x_1^3\n",
    "for i = 1:m\n",
    "    for j = 1:k+1\n",
    "        A[i,j] = x[i]^(k+1-j)\n",
    "    end\n",
    "end\n",
    "display(A)"
   ]
  },
  {
   "cell_type": "markdown",
   "metadata": {},
   "source": [
    "Let's call our variables/polynomial coefficients \"u\" to avoid notation confusion. Now our goal is to try to solve Au = y to find the values of u that best match our data.\n",
    "\n",
    "We'll  solve our least squres problem in a few different ways. First, we'll solve it as an optimization problem where we minimize the 2-norm of Au - y:"
   ]
  },
  {
   "cell_type": "code",
   "execution_count": 6,
   "metadata": {},
   "outputs": [
    {
     "name": "stdout",
     "output_type": "stream",
     "text": [
      "Academic license - for non-commercial use only - expires 2022-06-27\r\n",
      "[-0.06481481481100655, 1.0425685425632636, -4.083092833069389, 5.206349206321174]\n"
     ]
    }
   ],
   "source": [
    "# NOTE: To do this you need Gurobi installed! You can easily get an academic license for Gurobi at \n",
    "# https://www.gurobi.com/downloads/end-user-license-agreement-academic/\n",
    "\n",
    "using JuMP, Gurobi\n",
    "\n",
    "m = Model(Gurobi.Optimizer)\n",
    "\n",
    "@variable(m, u[1:k+1])\n",
    "@objective(m, Min, sum( (y - A*u).^2 ) )\n",
    "set_silent(m)\n",
    "\n",
    "optimize!(m)\n",
    "uopt = value.(u)\n",
    "println(uopt)"
   ]
  },
  {
   "cell_type": "markdown",
   "metadata": {},
   "source": [
    "Next, we'll solve it using the normal equations:"
   ]
  },
  {
   "cell_type": "code",
   "execution_count": 7,
   "metadata": {},
   "outputs": [
    {
     "data": {
      "text/plain": [
       "4-element Vector{Float64}:\n",
       " -0.06481481481481666\n",
       "  1.0425685425685742\n",
       " -4.083092833093133\n",
       "  5.206349206349614"
      ]
     },
     "execution_count": 7,
     "metadata": {},
     "output_type": "execute_result"
    }
   ],
   "source": [
    "inv(A'*A)*(A'*y)"
   ]
  },
  {
   "cell_type": "markdown",
   "metadata": {},
   "source": [
    "Finally, we'll use the backslash operator:"
   ]
  },
  {
   "cell_type": "code",
   "execution_count": 8,
   "metadata": {},
   "outputs": [
    {
     "data": {
      "text/plain": [
       "4-element Vector{Float64}:\n",
       " -0.06481481481481527\n",
       "  1.0425685425685498\n",
       " -4.083092833092866\n",
       "  5.206349206349248"
      ]
     },
     "execution_count": 8,
     "metadata": {},
     "output_type": "execute_result"
    }
   ],
   "source": [
    "A\\y"
   ]
  },
  {
   "cell_type": "markdown",
   "metadata": {},
   "source": [
    "As you can see, we got the same answer using all three approaches! Now let's plot our data versus our polynomial to see how we did. We can also calculate the 2-norm of Au - y to find the magnitude of the \"error\" between our data and polynomial."
   ]
  },
  {
   "cell_type": "code",
   "execution_count": 9,
   "metadata": {},
   "outputs": [
    {
     "data": {
      "image/png": "[encoded data removed]",
      "text/plain": [
       "Figure(PyObject <Figure size 800x400 with 1 Axes>)"
      ]
     },
     "metadata": {},
     "output_type": "display_data"
    }
   ],
   "source": [
    "using PyPlot\n",
    "\n",
    "# we'll graph 100 points along our polynomial between x=0 and x=10\n",
    "npts = 100\n",
    "x_poly = range(0,stop=10,length=npts)\n",
    "# initialize the output vector with all zeros\n",
    "y_poly = zeros(npts)\n",
    "\n",
    "# calculate what each output should be using our polynomial\n",
    "for j = 1:npts\n",
    "    y_poly[j] = uopt[1] * x_poly[j]^3 + uopt[2] * x_poly[j]^2 + uopt[3] * x_poly[j] + uopt[4]\n",
    "end\n",
    "\n",
    "# graph the observed data against the point\n",
    "figure(figsize=(8,4))\n",
    "plot( x, y, \"r.\", markersize=10)\n",
    "plot( x_poly, y_poly, \"b-\")\n",
    "axis([0,10,-2,8])\n",
    "grid()"
   ]
  },
  {
   "cell_type": "code",
   "execution_count": 10,
   "metadata": {},
   "outputs": [
    {
     "name": "stdout",
     "output_type": "stream",
     "text": [
      "Total 2-norm error: 3.0374050974194615\n"
     ]
    }
   ],
   "source": [
    "# total error ||Ax - y||\n",
    "y_calc = zeros(9)\n",
    "for j = 1:9\n",
    "    y_calc[j] = uopt[1] * x[j]^3 + uopt[2] * x[j]^2 + uopt[3] * x[j] + uopt[4]\n",
    "end\n",
    "\n",
    "using LinearAlgebra\n",
    "err = norm(y_calc - y)\n",
    "println(\"Total 2-norm error: \", err)"
   ]
  },
  {
   "cell_type": "code",
   "execution_count": null,
   "metadata": {},
   "outputs": [],
   "source": []
  }
 ],
 "metadata": {
  "kernelspec": {
   "display_name": "Julia 1.7.3",
   "language": "julia",
   "name": "julia-1.7"
  },
  "language_info": {
   "file_extension": ".jl",
   "mimetype": "application/julia",
   "name": "julia",
   "version": "1.7.3"
  }
 },
 "nbformat": 4,
 "nbformat_minor": 4
}
