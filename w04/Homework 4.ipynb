{
 "cells": [
  {
   "cell_type": "markdown",
   "id": "ba5ac0f1",
   "metadata": {},
   "source": [
    "# Homework \\#4\n",
    "Due July 17 @ 11:59pm\n",
    "\n",
    "## Submission requirements\n",
    "Upload a **single PDF file** of your IJulia notebook for this entire assigment. Clearly denote which question each section of your PDF corresponds to.\n",
    "\n",
    "## Problem 1 -- Least Squares in general\n",
    "\n",
    "### The small problem\n",
    "\n",
    "The following set of five equations in four variables does not have a unique solution. (Most problem with five equations and four variables don't.) In other words, this is an _overdetermined_ system of linear equations.\n",
    "\n",
    "\n",
    "\\begin{align}\n",
    "&x_1 + x_2 + x_3 + x_4 = 3\\\\\n",
    "&2x_1\\phantom{+x_2+x_3}-x_4 = 1\\\\\n",
    "&\\phantom{x_1}-3x_2 + x_3 \\phantom{+x_4}= 0\\\\\n",
    "&x_1 -x_2 \\phantom{+x_3}-x_4 = -1\\\\\n",
    "&\\phantom{x_1+x_2}2x_3 + 3x_4 = 6\n",
    "\\end{align}\n",
    "\n",
    "(a) Write a _linear_ programming instance that will minimize the total residual: \n",
    "\\begin{align}\n",
    "r_1 + r_2 + r_3 + r_4 + r_5\n",
    "\\end{align}\n",
    "\n",
    "where $r_i$ is defined as the absolute value of the error in the $i$th equation for a given value of $x$: $|\\sum_{j=1}^{4} a_{ij}x_j - b_i|$.\n",
    "\n",
    "Solve this problem instance in Julia.  Display both the (minimum) total residual and the values of $x$ that achieve this.\n",
    "\n",
    "\n",
    "(b) Write a _linear_ programming instance that will minimize the _maximum_ residual in any one equation. In other words, find values of $x$ that will $\\min \\max\\{r_1, r_2, r_3, r_4, r_5\\}.$ Solve the problem in Julia. What is the minimum max-residual that can be achieved?\n",
    "\n",
    "\n",
    "### The big problem\n",
    "\n",
    "Let $J = \\{1, 2, \\ldots, |J|\\}$ be a set representing the indices of your decision variables for some number of variables $|J|$. You are given a set of a total of $|I| > |J|$ equations containing these decision variables in the form:\n",
    "\\begin{align}\n",
    "\\sum_{j \\in J} a_{ij} x_j = b_i \\qquad \\forall i \\in I \n",
    "\\end{align}\n",
    "Define the absolute residual of each equation $i \\in I$ for a given choice of variable values $x^*$ as the quantity\n",
    "$r_i(x^*) = | \\sum_{j \\in J} (a_{ij} x_j) - b_i | \\qquad \\forall\n",
    "i \\in I.$\n",
    "\n",
    "\n",
    "Use the following code to randomly generate data for your problem:\n"
   ]
  },
  {
   "cell_type": "code",
   "execution_count": 1,
   "id": "2825fa16",
   "metadata": {},
   "outputs": [],
   "source": [
    "nr = 400 # number of rows of the coefficient matrix (number of equations)\n",
    "nc = 200 # number of columns of the coefficient matrix (number of decision variables)\n",
    "\n",
    "A = zeros(nr,nc) # initialize coefficient matrix\n",
    "b = zeros(nr) # initialize right-hand side of equations\n",
    "\n",
    "for i in 1:nr\n",
    "    b[i] = rand(-75:75) # generate random right-hand side\n",
    "    for j in 1:nc\n",
    "        A[i,j] = rand(-7:7) # generate random coefficient\n",
    "    end\n",
    "end"
   ]
  },
  {
   "cell_type": "markdown",
   "id": "55c0f17f",
   "metadata": {},
   "source": [
    "(c) Write a _linear_ programming instance that will minimize the total residual: \n",
    "\\begin{align}\n",
    "\\sum_{i\\in I} r_i.\n",
    "\\end{align}\n",
    "Solve this problem instance in Julia.  Display the (minimum) total residual.\n",
    "\n",
    "\n",
    "(d) Write a _linear_ programming instance that will minimize the _maximum_ residual in any one equation. In other words, find values of $x$ that will $\\min \\max_{i\\in I}\\{r_i\\}.$ Solve the problem in Julia. What is the minimum max-residual that can be achieved?"
   ]
  },
  {
   "cell_type": "markdown",
   "id": "892548cd",
   "metadata": {},
   "source": [
    "## Problem 2 -- Curve fitting\n",
    "\n",
    "Our favorite local microbrewery is BACK with yet another optimization dilemma. This time, they are trying to understand the relationship between using a certain type of hops to brew their beers and customer satisfaction. They surveyed a focus group by having them taste a series of beers with different concentrations of the hops and rating the flavor on a scale of 1-10. The average rating was recorded for each hop concentration. The following table summarizes the results of this survey.\n",
    "\n",
    "|Hops (\\%)|0.5|0.8|0.9|1.1|1.5|1.7|2.0|2.1|2.4|2.5|\n",
    "|-:|-:|-:|-:|-:|-:|-:|-:|-:|-:|-:|\n",
    "|Satisfaction|7.8|8.1|9.0|8.9|8.5|7.1|6.8|7.7|9.3|8.5|\n",
    "\n",
    "(a) Graph the data on a 2D plot (I recommend using the Plots package). Treat the hops concentration as the independent ($x$) variable and the satisfaction as the dependent ($y$) variable.\n",
    "\n",
    "(b) A machine learning consultant hired by the microbrewery thinks they might be able to build a function that describes the relationship between the hop concentration and customer satisfaction so the microbrewery can select the concentration that leads to the highest overall satisfaction. To start, the consultant proposes the function:\n",
    "\n",
    "$y = ax + be^x + c\\sin(x) + d$\n",
    "\n",
    "where $x$ is the hop concentration, $y$ is customer satisfaction, and $a, b, c, d$ are unknown constants (weights).  What values of $a, b, c, d$ give the best match between the function model and the given data? What is the resulting 2-norm error between the data and the model?\n",
    "\n",
    "(c) Suppose another consultant argues that the better fit for this data would be a polynomial function of the form $y = a_1x^3 + a_2x^2 + a_3x + a_4$ (3rd degree poynomial).  What values of $a$ give the best match between your polynomial model and the given data? What is the resulting 2-norm error between the data and your model?\n",
    "\n",
    "(d) Graph the curves against your data. What value would you expect to get with an input of $x = 0.01$ in each case? Which model do you believe describes the data better, and why?"
   ]
  },
  {
   "cell_type": "markdown",
   "id": "7217cac4",
   "metadata": {},
   "source": [
    "## Problem 3 - Lots of Norms\n",
    "\n",
    "\n",
    "A local cheese maker has a dilemma. She is checking her inventory sheets for her Gouda production and something seems wrong. Her sheets say that over the last 3 weeks, demand was met (exactly), and the demand each of those weeks was 5, 6, and 4, respectively. The problem is, things aren't adding up. She uses two variables to keep track of how much she sells: the average inventory level (I) and the average production level (P). According to her inventory sheets, 2 times the average inventory plus 2 times the average production was used to meet demand in week 1. One times the average inventory plus 3 times the average production met demand in week 2, and 3 times the average inventory minus the average production met demand in week 3.\n",
    "\n",
    "She has used this information to write down the following equations:\n",
    "\n",
    "\\begin{eqnarray*}\n",
    " 2I +2 P & = & 5\\\\\n",
    "I + 3 P & = & 6\\\\\n",
    "3I - P & = & 4\\\\\n",
    "\\end{eqnarray*}\n",
    "\n",
    "The cheese maker needs to know her average inventory and production levels in the last 3 weeks, but she also knows she can't solve this problem exactly since the system is overdetermined.\n",
    "\n",
    "(a) Formulate a _linear program_ that will find a solution $(I,P)$ that will minimize the _total_ absolute deviation (i.e., 1-norm) in the three equations. Solve the problem using any approach covered in this class and report your $(I,P)$ values and corresponding 1-norm.\n",
    "\n",
    "(b) The cheese maker is unhappy with the values given in part (a) and decides perhaps linear programming isn't the right approach and she should try to minimize the 2-norm of the violation of the equations instead. Modify your answer to Problem 3(a) to enforce this. Add one final constraint to your problem that _must_ be met, even if the other constraints are not met: $I + P = 3$. Write down your complete (nonlinear) optimization model. \n",
    "\n",
    "(c) Write a set of _linear_ equalities that will give you the optimal solution to Problem 3(b). Solve this system of equations using any approach covered in this class and report the final $(I,P)$ values and corresponding 2-norm. \n"
   ]
  },
  {
   "cell_type": "code",
   "execution_count": null,
   "id": "9f21d69f",
   "metadata": {},
   "outputs": [],
   "source": []
  }
 ],
 "metadata": {
  "kernelspec": {
   "display_name": "Julia 1.10.4",
   "language": "julia",
   "name": "julia-1.10"
  },
  "language_info": {
   "file_extension": ".jl",
   "mimetype": "application/julia",
   "name": "julia",
   "version": "1.10.4"
  }
 },
 "nbformat": 4,
 "nbformat_minor": 5
}
