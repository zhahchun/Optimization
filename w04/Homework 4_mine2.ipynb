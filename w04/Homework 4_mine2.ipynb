{
 "cells": [
  {
   "cell_type": "markdown",
   "id": "e2f5b3ac-acf6-4868-b6b3-8df119466abc",
   "metadata": {},
   "source": [
    "# Homework \\#4"
   ]
  },
  {
   "cell_type": "markdown",
   "id": "7378e94b-a5d6-40b5-b6cf-c7de53f45d71",
   "metadata": {},
   "source": [
    "## Problem 1 -- Least Squares in general\n",
    "\n",
    "### The small problem\n",
    "\n",
    "The following set of five equations in four variables does not have a unique solution. (Most problem with five equations and four variables don't.) In other words, this is an _overdetermined_ system of linear equations.\n",
    "\n",
    "\n",
    "\\begin{align}\n",
    "&x_1 + x_2 + x_3 + x_4 = 3\\\\\n",
    "&2x_1\\phantom{+x_2+x_3}-x_4 = 1\\\\\n",
    "&\\phantom{x_1}-3x_2 + x_3 \\phantom{+x_4}= 0\\\\\n",
    "&x_1 -x_2 \\phantom{+x_3}-x_4 = -1\\\\\n",
    "&\\phantom{x_1+x_2}2x_3 + 3x_4 = 6\n",
    "\\end{align}\n",
    "\n",
    "(a) Write a _linear_ programming instance that will minimize the total residual: \n",
    "\\begin{align}\n",
    "r_1 + r_2 + r_3 + r_4 + r_5\n",
    "\\end{align}\n",
    "\n",
    "where $r_i$ is defined as the absolute value of the error in the $i$th equation for a given value of $x$: $|\\sum_{j=1}^{4} a_{ij}x_j - b_i|$.\n",
    "\n",
    "Solve this problem instance in Julia.  Display both the (minimum) total residual and the values of $x$ that achieve this."
   ]
  },
  {
   "cell_type": "code",
   "execution_count": 1,
   "id": "1e5020ce-1bdc-4a71-8d7f-1e426d450ed2",
   "metadata": {},
   "outputs": [
    {
     "name": "stdout",
     "output_type": "stream",
     "text": [
      "Set parameter Username\n",
      "Academic license - for non-commercial use only - expires 2025-07-17\n",
      "\n",
      "x: [2.0, -0.5, -1.5, 3.0]\n",
      "total residual: 0.5\n"
     ]
    }
   ],
   "source": [
    "using JuMP, Gurobi, Cbc\n",
    "\n",
    "A = [1  1 1  1;\n",
    "     2  0 0 -1;\n",
    "     0 -3 1  0;\n",
    "     1 -1 0 -1;\n",
    "     0  0 2  3]\n",
    "\n",
    "b = [3, 1, 0, -1, 6]\n",
    "\n",
    "m = Model(Gurobi.Optimizer)\n",
    "set_silent(m)\n",
    "\n",
    "@variable(m, x[1:4])\n",
    "@variable(m, t[1:5] >= 0)\n",
    "@constraint(m, t .>= b .- A*x)\n",
    "@constraint(m, t .>= A*x .- b)\n",
    "@objective(m, Min, sum(t))\n",
    "\n",
    "optimize!(m)\n",
    "xopt = value.(x)\n",
    "println(\"\\nx: \", xopt)\n",
    "println(\"total residual: \", objective_value(m))"
   ]
  },
  {
   "cell_type": "markdown",
   "id": "cf939449-7ce0-4b5d-8924-89796ad3a9f5",
   "metadata": {},
   "source": [
    "(b) Write a _linear_ programming instance that will minimize the _maximum_ residual in any one equation. In other words, find values of $x$ that will $\\min \\max\\{r_1, r_2, r_3, r_4, r_5\\}.$ Solve the problem in Julia. What is the minimum max-residual that can be achieved?"
   ]
  },
  {
   "cell_type": "code",
   "execution_count": 2,
   "id": "312e3f99-3b65-46a6-86da-5397d5c88665",
   "metadata": {},
   "outputs": [
    {
     "name": "stdout",
     "output_type": "stream",
     "text": [
      "Set parameter Username\n",
      "Academic license - for non-commercial use only - expires 2025-07-17\n",
      "\n",
      "x: [2.25, -0.75, -2.5, 3.75]\n",
      "minimum max-residual: 0.25\n"
     ]
    }
   ],
   "source": [
    "using JuMP, Gurobi\n",
    "\n",
    "m = Model(Gurobi.Optimizer)\n",
    "set_silent(m)\n",
    "\n",
    "@variable(m, x[1:4])\n",
    "@variable(m, r)\n",
    "@constraint(m, r .>= b .- A*x)\n",
    "@constraint(m, r .>= A*x .- b)\n",
    "@objective(m, Min, r)\n",
    "\n",
    "optimize!(m)\n",
    "xopt = value.(x)\n",
    "println(\"\\nx: \", xopt)\n",
    "println(\"minimum max-residual: \", objective_value(m))"
   ]
  },
  {
   "cell_type": "markdown",
   "id": "29936c7c-2905-4eaf-a66f-65b0d07d16d8",
   "metadata": {},
   "source": [
    "### The big problem\n",
    "\n",
    "Let $J = \\{1, 2, \\ldots, |J|\\}$ be a set representing the indices of your decision variables for some number of variables $|J|$. You are given a set of a total of $|I| > |J|$ equations containing these decision variables in the form:\n",
    "\\begin{align}\n",
    "\\sum_{j \\in J} a_{ij} x_j = b_i \\qquad \\forall i \\in I \n",
    "\\end{align}\n",
    "Define the absolute residual of each equation $i \\in I$ for a given choice of variable values $x^*$ as the quantity\n",
    "$r_i(x^*) = | \\sum_{j \\in J} (a_{ij} x_j) - b_i | \\qquad \\forall\n",
    "i \\in I.$\n",
    "\n",
    "(c) Write a _linear_ programming instance that will minimize the total residual: \n",
    "\\begin{align}\n",
    "\\sum_{i\\in I} r_i.\n",
    "\\end{align}\n",
    "Solve this problem instance in Julia.  Display the (minimum) total residual.\n",
    "\n",
    "\n",
    "(d) Write a _linear_ programming instance that will minimize the _maximum_ residual in any one equation. In other words, find values of $x$ that will $\\min \\max_{i\\in I}\\{r_i\\}.$ Solve the problem in Julia. What is the minimum max-residual that can be achieved?"
   ]
  },
  {
   "cell_type": "code",
   "execution_count": 3,
   "id": "ad479de6-5a57-444b-b4b1-6103fddd821a",
   "metadata": {},
   "outputs": [
    {
     "name": "stdout",
     "output_type": "stream",
     "text": [
      "Set parameter Username\n",
      "Academic license - for non-commercial use only - expires 2025-07-17\n",
      "\n",
      "Case1: Minimizing sum of absolute values\n",
      "the absolute residual of each equation (t, first 10): \n",
      "[69.55232133521903, 0.0, 26.958714295626116, 0.0, 72.89023672546398, 32.5503607600863, 4.0432422012000995, 0.0, 70.25295848652206, 21.7595757498654]\n",
      "(c) total residual: 8465.296594919962\n",
      "\n",
      "Case2: Minimizing the largest absolute value\n",
      "the absolute residual of each equation (first 10): \n",
      "[44.836788306426534, 13.899839752022007, 3.1535072198328926, 44.83678830642627, 5.561886196468301, 44.83678830642648, 14.4092287724589, 18.32779866505576, 44.83678830642651, 15.174208405985567]\n",
      "(d) minimum max-residual: 44.8367883064265\n"
     ]
    }
   ],
   "source": [
    "nr = 400 # number of rows of the coefficient matrix (number of equations)\n",
    "nc = 200 # number of columns of the coefficient matrix (number of decision variables)\n",
    "\n",
    "A = zeros(nr,nc) # initialize coefficient matrix\n",
    "b = zeros(nr) # initialize right-hand side of equations\n",
    "\n",
    "for i in 1:nr\n",
    "    b[i] = rand(-75:75) # generate random right-hand side\n",
    "    for j in 1:nc\n",
    "        A[i,j] = rand(-7:7) # generate random coefficient\n",
    "    end\n",
    "end\n",
    "\n",
    "using JuMP, Gurobi, Cbc\n",
    "\n",
    "m = Model(Gurobi.Optimizer)\n",
    "set_silent(m)\n",
    "\n",
    "# (c)\n",
    "@variable(m, x[1:nc])\n",
    "@variable(m, t[1:nr] >= 0)\n",
    "@constraint(m, t .>= b .- A*x)\n",
    "@constraint(m, t .>= A*x .- b)\n",
    "@objective(m, Min, sum(t))\n",
    "\n",
    "optimize!(m)\n",
    "xopt = value.(x)\n",
    "topt = value.(t)\n",
    "println(\"\\nCase1: Minimizing sum of absolute values\")\n",
    "println(\"the absolute residual of each equation (t, first 10): \\n\", topt[1:10])\n",
    "println(\"(c) total residual: \", objective_value(m))\n",
    "\n",
    "# (d)\n",
    "@variable(m, r)\n",
    "@constraint(m, r .>= b .- A*x)\n",
    "@constraint(m, r .>= A*x .- b)\n",
    "@objective(m, Min, r)\n",
    "\n",
    "optimize!(m)\n",
    "xopt = value.(x)\n",
    "println(\"\\nCase2: Minimizing the largest absolute value\")\n",
    "println(\"the absolute residual of each equation (first 10): \\n\",  abs.(b .- A*xopt)[1:10])\n",
    "println(\"(d) minimum max-residual: \", objective_value(m))"
   ]
  },
  {
   "cell_type": "markdown",
   "id": "a5362f6a-2bd9-4dc9-b914-673a35a83116",
   "metadata": {},
   "source": [
    "## Problem 2 -- Curve fitting\n",
    "\n",
    "Our favorite local microbrewery is BACK with yet another optimization dilemma. This time, they are trying to understand the relationship between using a certain type of hops to brew their beers and customer satisfaction. They surveyed a focus group by having them taste a series of beers with different concentrations of the hops and rating the flavor on a scale of 1-10. The average rating was recorded for each hop concentration. The following table summarizes the results of this survey.\n",
    "\n",
    "|Hops (\\%)|0.5|0.8|0.9|1.1|1.5|1.7|2.0|2.1|2.4|2.5|\n",
    "|-:|-:|-:|-:|-:|-:|-:|-:|-:|-:|-:|\n",
    "|Satisfaction|7.8|8.1|9.0|8.9|8.5|7.1|6.8|7.7|9.3|8.5|\n",
    "\n",
    "(a) Graph the data on a 2D plot (I recommend using the Plots package). Treat the hops concentration as the independent ($x$) variable and the satisfaction as the dependent ($y$) variable."
   ]
  },
  {
   "cell_type": "code",
   "execution_count": 4,
   "id": "b39a4eab-f9f1-4fec-8fea-a97cd1e8e9e6",
   "metadata": {},
   "outputs": [
    {
     "data": {
      "image/png": "[encoded data removed]",
      "text/plain": [
       "Figure(PyObject <Figure size 800x400 with 1 Axes>)"
      ]
     },
     "metadata": {},
     "output_type": "display_data"
    }
   ],
   "source": [
    "# define (x,y) coordinates of the points\n",
    "x = [ 0.5, 0.8, 0.9, 1.1, 1.5, 1.7, 2.0, 2.1, 2.4, 2.5 ]\n",
    "y = [ 7.8, 8.1, 9.0, 8.9, 8.5, 7.1, 6.8, 7.7, 9.3, 8.5 ]\n",
    "\n",
    "# We can use the PyPlot package to graph these points\n",
    "using PyPlot\n",
    "figure(figsize=(8,4))\n",
    "plot(x,y,\"r.\", markersize=10)\n",
    "axis([0, 3, 6, 10])\n",
    "grid()"
   ]
  },
  {
   "cell_type": "markdown",
   "id": "ff800c25-f571-4611-beba-e5f4be3ab977",
   "metadata": {},
   "source": [
    "(b) A machine learning consultant hired by the microbrewery thinks they might be able to build a function that describes the relationship between the hop concentration and customer satisfaction so the microbrewery can select the concentration that leads to the highest overall satisfaction. To start, the consultant proposes the function:\n",
    "\n",
    "$y = ax + be^x + c\\sin(x) + d$\n",
    "\n",
    "where $x$ is the hop concentration, $y$ is customer satisfaction, and $a, b, c, d$ are unknown constants (weights).  What values of $a, b, c, d$ give the best match between the function model and the given data? What is the resulting 2-norm error between the data and the model?"
   ]
  },
  {
   "cell_type": "code",
   "execution_count": 5,
   "id": "b14f7329-d7fe-411c-be87-0b35266d629c",
   "metadata": {},
   "outputs": [
    {
     "data": {
      "text/plain": [
       "10×4 Matrix{Float64}:\n",
       " 0.5   1.64872  0.479426  1.0\n",
       " 0.8   2.22554  0.717356  1.0\n",
       " 0.9   2.4596   0.783327  1.0\n",
       " 1.1   3.00417  0.891207  1.0\n",
       " 1.5   4.48169  0.997495  1.0\n",
       " 1.7   5.47395  0.991665  1.0\n",
       " 2.0   7.38906  0.909297  1.0\n",
       " 2.1   8.16617  0.863209  1.0\n",
       " 2.4  11.0232   0.675463  1.0\n",
       " 2.5  12.1825   0.598472  1.0"
      ]
     },
     "metadata": {},
     "output_type": "display_data"
    },
    {
     "name": "stdout",
     "output_type": "stream",
     "text": [
      "Set parameter Username\n",
      "Academic license - for non-commercial use only - expires 2025-07-17\n",
      "\n",
      "values of abcd: [-19.924056668179997, 3.6982140271313466, 18.848801249069457, 2.6788752505236424]\n",
      "the resulting 2-norm error: 2.6644489418487183\n"
     ]
    }
   ],
   "source": [
    "# order of polynomial to use\n",
    "k = 3\n",
    "\n",
    "# our matrix A will need to have m rows, where m is the number of data points\n",
    "m = length(x)\n",
    "# initialize A to be a matrix of zeros with m rows and k+1 columns\n",
    "A1 = zeros(m, k+1)\n",
    "\n",
    "# now loop over each row and each column\n",
    "for i = 1:m\n",
    "    for j = 1:k+1\n",
    "        if j == 1\n",
    "            A1[i,j] = x[i]\n",
    "        elseif j == 2\n",
    "            A1[i,j] = exp(x[i])\n",
    "        elseif j == 3\n",
    "            A1[i,j] = sin(x[i])\n",
    "        elseif j == 4\n",
    "            A1[i,j] = 1\n",
    "        end\n",
    "    end\n",
    "end\n",
    "display(A1)\n",
    "\n",
    "using JuMP, Gurobi\n",
    "\n",
    "m = Model(Gurobi.Optimizer)\n",
    "\n",
    "@variable(m, u[1:k+1]) # u = [a b c d]\n",
    "@objective(m, Min, sum( (y - A1*u).^2 ) )\n",
    "set_silent(m)\n",
    "\n",
    "optimize!(m)\n",
    "uopt = value.(u)\n",
    "println(\"\\nvalues of abcd: \", uopt)\n",
    "println(\"the resulting 2-norm error: \", objective_value(m))\n",
    "# println(\"A1\\\\y: \", A1\\y)"
   ]
  },
  {
   "cell_type": "markdown",
   "id": "0c671685-acd1-4eff-acfe-3f8d0d4fe411",
   "metadata": {},
   "source": [
    "(c) Suppose another consultant argues that the better fit for this data would be a polynomial function of the form $y = a_1x^3 + a_2x^2 + a_3x + a_4$ (3rd degree poynomial).  What values of $a$ give the best match between your polynomial model and the given data? What is the resulting 2-norm error between the data and your model?"
   ]
  },
  {
   "cell_type": "code",
   "execution_count": 6,
   "id": "e02fa4e1-c214-4a2f-9b6a-a49853fd0099",
   "metadata": {},
   "outputs": [
    {
     "data": {
      "text/plain": [
       "10×4 Matrix{Float64}:\n",
       "  0.125  0.25  0.5  1.0\n",
       "  0.512  0.64  0.8  1.0\n",
       "  0.729  0.81  0.9  1.0\n",
       "  1.331  1.21  1.1  1.0\n",
       "  3.375  2.25  1.5  1.0\n",
       "  4.913  2.89  1.7  1.0\n",
       "  8.0    4.0   2.0  1.0\n",
       "  9.261  4.41  2.1  1.0\n",
       " 13.824  5.76  2.4  1.0\n",
       " 15.625  6.25  2.5  1.0"
      ]
     },
     "metadata": {},
     "output_type": "display_data"
    },
    {
     "name": "stdout",
     "output_type": "stream",
     "text": [
      "Set parameter Username\n",
      "Academic license - for non-commercial use only - expires 2025-07-17\n",
      "\n",
      "values of a: [2.859270229526782, -12.457502218693941, 15.932207089995357, 2.4450282378752792]\n",
      "the resulting 2-norm error: 2.4000170395617033\n"
     ]
    }
   ],
   "source": [
    "k = 3\n",
    "m = length(x)\n",
    "A2 = zeros(m,k+1)\n",
    "\n",
    "for i = 1:m\n",
    "    for j = 1:k+1\n",
    "        A2[i,j] = x[i]^(k+1-j)\n",
    "    end\n",
    "end\n",
    "display(A2)\n",
    "\n",
    "using JuMP, Gurobi\n",
    "\n",
    "m = Model(Gurobi.Optimizer)\n",
    "\n",
    "@variable(m, v[1:k+1])\n",
    "@objective(m, Min, sum( (y - A2*v).^2 ) )\n",
    "set_silent(m)\n",
    "\n",
    "optimize!(m)\n",
    "vopt = value.(v)\n",
    "println(\"\\nvalues of a: \", vopt)\n",
    "println(\"the resulting 2-norm error: \", objective_value(m))"
   ]
  },
  {
   "cell_type": "markdown",
   "id": "8875f4b8-2e2a-4790-aba6-7150901d37c5",
   "metadata": {},
   "source": [
    "(d) Graph the curves against your data. What value would you expect to get with an input of $x = 0.01$ in each case? Which model do you believe describes the data better, and why?\r\n",
    "\r\n",
    "**Answer:** With an input of $x = 0.01$, I would expect to get values of 6.40 and 2.60, respectively, from the two models. The second model describes the data better because it has a lower 2-norm error (2.40) compared to the first model's 2-norm error (2.66).\r\n"
   ]
  },
  {
   "cell_type": "code",
   "execution_count": 7,
   "id": "b6f431b1-8d9f-4035-a4f8-dcc7949a0d04",
   "metadata": {},
   "outputs": [
    {
     "name": "stdout",
     "output_type": "stream",
     "text": [
      "case: y = ax + be^x + csin(x) + d\n",
      "with an input of x = 0.01, the result is 6.403501250898399\n",
      "\n",
      "case: y = a_1x^3 + a_2x^2 + a_3x + a_4\n",
      "with an input of x = 0.01, the result is 2.603107417823593\n"
     ]
    },
    {
     "data": {
      "image/png": "[encoded data removed]",
      "text/plain": [
       "Figure(PyObject <Figure size 800x400 with 1 Axes>)"
      ]
     },
     "metadata": {},
     "output_type": "display_data"
    },
    {
     "data": {
      "image/png": "[encoded data removed]",
      "text/plain": [
       "Figure(PyObject <Figure size 800x400 with 1 Axes>)"
      ]
     },
     "metadata": {},
     "output_type": "display_data"
    }
   ],
   "source": [
    "println(\"case: y = ax + be^x + csin(x) + d\")\n",
    "inp = 0.01\n",
    "inp_ls = [inp, exp(inp), sin(inp), 1]\n",
    "case1 = inp_ls'*uopt\n",
    "# inp_res = uopt[1] * inp + uopt[2] * exp(inp) + uopt[3] * sin(inp) + uopt[4]\n",
    "println(\"with an input of x = 0.01, the result is \", case1)\n",
    "\n",
    "using PyPlot\n",
    "\n",
    "npts = 300\n",
    "x_poly = range(0,stop=3,length=npts)\n",
    "# initialize the output vector with all zeros\n",
    "y_poly = zeros(npts)\n",
    "\n",
    "# calculate what each output should be using our polynomial\n",
    "for j = 1:npts\n",
    "    y_poly[j] = uopt[1] * x_poly[j] + uopt[2] * exp(x_poly[j]) \n",
    "                + uopt[3] * sin(x_poly[j]) + uopt[4]\n",
    "end\n",
    "\n",
    "# graph the observed data against the point\n",
    "figure(figsize=(8,4))\n",
    "plot( x, y, \"r.\", markersize=10)\n",
    "plot( x_poly, y_poly, \"b-\")\n",
    "plot( inp, case1, \"g.\")\n",
    "axis([0, 3, -40, 10])\n",
    "grid()\n",
    "\n",
    "println(\"\\ncase: y = a_1x^3 + a_2x^2 + a_3x + a_4\")\n",
    "inp_ls = [inp^3, inp^2, inp, 1]\n",
    "case2 = inp_ls'*vopt\n",
    "println(\"with an input of x = 0.01, the result is \", case2 )\n",
    "\n",
    "y_poly = zeros(npts)\n",
    "\n",
    "for j = 1:npts\n",
    "    y_poly[j] = vopt[1] * x_poly[j]^3 + vopt[2] * x_poly[j]^2 \n",
    "                + vopt[3] * x_poly[j] + vopt[4]\n",
    "end\n",
    "\n",
    "figure(figsize=(8,4))\n",
    "plot( x, y, \"r.\", markersize=10)\n",
    "plot( x_poly, y_poly, \"b-\")\n",
    "plot( inp, case2, \"g.\")\n",
    "axis([0, 3, -40, 10])\n",
    "grid()"
   ]
  },
  {
   "cell_type": "markdown",
   "id": "e30cae00-05af-465a-ad9d-44880827f409",
   "metadata": {},
   "source": [
    "## Problem 3 - Lots of Norms\n",
    "\n",
    "\n",
    "A local cheese maker has a dilemma. She is checking her inventory sheets for her Gouda production and something seems wrong. Her sheets say that over the last 3 weeks, demand was met (exactly), and the demand each of those weeks was 5, 6, and 4, respectively. The problem is, things aren't adding up. She uses two variables to keep track of how much she sells: the average inventory level (I) and the average production level (P). According to her inventory sheets, 2 times the average inventory plus 2 times the average production was used to meet demand in week 1. One times the average inventory plus 3 times the average production met demand in week 2, and 3 times the average inventory minus the average production met demand in week 3.\n",
    "\n",
    "She has used this information to write down the following equations:\n",
    "\n",
    "\\begin{eqnarray*}\n",
    " 2I +2 P & = & 5\\\\\n",
    "I + 3 P & = & 6\\\\\n",
    "3I - P & = & 4\\\\\n",
    "\\end{eqnarray*}\n",
    "\n",
    "The cheese maker needs to know her average inventory and production levels in the last 3 weeks, but she also knows she can't solve this problem exactly since the system is overdetermined.\n",
    "\n",
    "(a) Formulate a _linear program_ that will find a solution $(I,P)$ that will minimize the _total_ absolute deviation (i.e., 1-norm) in the three equations. Solve the problem using any approach covered in this class and report your $(I,P)$ values and corresponding 1-norm.\n"
   ]
  },
  {
   "cell_type": "code",
   "execution_count": 8,
   "id": "7a5f69ee-6f1c-4f59-9126-042a9fc6485b",
   "metadata": {},
   "outputs": [
    {
     "name": "stdout",
     "output_type": "stream",
     "text": [
      "Set parameter Username\n",
      "Academic license - for non-commercial use only - expires 2025-07-17\n",
      "\n",
      "(I, P): [1.8, 1.4000000000000001]\n",
      "1-norm: 1.4000000000000004\n"
     ]
    }
   ],
   "source": [
    "A = [2  2;\n",
    "     1  3;\n",
    "     3 -1]\n",
    "\n",
    "b = [5, 6, 4]\n",
    "\n",
    "using JuMP, Gurobi\n",
    "m = Model(Gurobi.Optimizer)\n",
    "set_silent(m)\n",
    "\n",
    "@variable(m, x[1:2]) # I, P\n",
    "@variable(m, t[1:3])\n",
    "@constraint(m, t .>= b .- A*x)\n",
    "@constraint(m, t .>= A*x .- b)\n",
    "@objective(m, Min, sum(t))\n",
    "\n",
    "optimize!(m)\n",
    "xopt = value.(x)\n",
    "println(\"\\n(I, P): \", xopt)\n",
    "println(\"1-norm: \", objective_value(m))"
   ]
  },
  {
   "cell_type": "markdown",
   "id": "64ded676-392d-4611-9070-546e63bf6ebd",
   "metadata": {},
   "source": [
    "(b) The cheese maker is unhappy with the values given in part (a) and decides perhaps linear programming isn't the right approach and she should try to minimize the 2-norm of the violation of the equations instead. Modify your answer to Problem 3(a) to enforce this. Add one final constraint to your problem that _must_ be met, even if the other constraints are not met: $I + P = 3$. Write down your complete (nonlinear) optimization model. \n"
   ]
  },
  {
   "cell_type": "code",
   "execution_count": 9,
   "id": "1dae7844-60a1-460b-9c87-7e6c9ac28247",
   "metadata": {},
   "outputs": [
    {
     "name": "stdout",
     "output_type": "stream",
     "text": [
      "Set parameter Username\n",
      "Academic license - for non-commercial use only - expires 2025-07-17\n",
      "\n",
      "(I, P): [1.6999999999990372, 1.30000000000093]\n",
      "2-norm: 1.2000000000009123\n"
     ]
    }
   ],
   "source": [
    "using JuMP, Gurobi\n",
    "\n",
    "m = Model(Gurobi.Optimizer)\n",
    "set_silent(m)\n",
    "\n",
    "@variable(m, x[1:2]) # I, P\n",
    "@constraint(m, x[1] + x[2] == 3)\n",
    "@objective(m, Min, sum((b - A*x).^2 ))\n",
    "\n",
    "optimize!(m)\n",
    "xopt = value.(x)\n",
    "println(\"\\n(I, P): \", xopt)\n",
    "println(\"2-norm: \", objective_value(m))"
   ]
  },
  {
   "cell_type": "markdown",
   "id": "f9b7015b-021d-4f7e-b184-761cad62b962",
   "metadata": {},
   "source": [
    "(c) Write a set of _linear_ equalities that will give you the optimal solution to Problem 3(b). Solve this system of equations using any approach covered in this class and report the final $(I,P)$ values and corresponding 2-norm. \n",
    "\n",
    "\\begin{eqnarray*}\n",
    " 2I +2 P & = & 5\\\\\n",
    "I + 3 P & = & 6\\\\\n",
    "3I - P & = & 4\\\\\n",
    "I + P & = & 3\\\\\n",
    "\\end{eqnarray*}"
   ]
  },
  {
   "cell_type": "code",
   "execution_count": 10,
   "id": "7e72d340-e7a3-4603-a1d2-1bd54323fb44",
   "metadata": {},
   "outputs": [
    {
     "name": "stdout",
     "output_type": "stream",
     "text": [
      "Set parameter Username\n",
      "Academic license - for non-commercial use only - expires 2025-07-17\n",
      "\n",
      "(I, P): [1.649999999994271, 1.2500000000001046]\n",
      "2-norm: 1.1000000000009607\n"
     ]
    }
   ],
   "source": [
    "A = [2  2;\n",
    "     1  3;\n",
    "     3 -1;\n",
    "     1  1]\n",
    "\n",
    "b = [5, 6, 4, 3]\n",
    "\n",
    "using JuMP, Gurobi\n",
    "m = Model(Gurobi.Optimizer)\n",
    "set_silent(m)\n",
    "\n",
    "@variable(m, x[1:2]) # I, P\n",
    "@objective(m, Min, sum((b - A*x).^2 ))\n",
    "\n",
    "optimize!(m)\n",
    "xopt = value.(x)\n",
    "println(\"\\n(I, P): \", xopt)\n",
    "println(\"2-norm: \", objective_value(m))"
   ]
  },
  {
   "cell_type": "code",
   "execution_count": null,
   "id": "7dae76d3-236a-47b3-ad9e-295921b2706f",
   "metadata": {},
   "outputs": [],
   "source": []
  }
 ],
 "metadata": {
  "kernelspec": {
   "display_name": "Julia 1.10.4",
   "language": "julia",
   "name": "julia-1.10"
  },
  "language_info": {
   "file_extension": ".jl",
   "mimetype": "application/julia",
   "name": "julia",
   "version": "1.10.4"
  }
 },
 "nbformat": 4,
 "nbformat_minor": 5
}
