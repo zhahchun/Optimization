{
 "cells": [
  {
   "cell_type": "markdown",
   "id": "e57ec3ab-7810-4596-8795-b68959e890ea",
   "metadata": {},
   "source": [
    "# Homework \\#6\n",
    "\n",
    "## Problem 1 -- Machine Scheduling\n",
    "\n",
    "\n",
    "Consider the following machine scheduling problem (MSP).  We have a set $M = \\{1, 2, \\ldots ,m\\}$ of machines and a set $N = \\{1, 2, \\ldots ,n\\}$ of jobs that must be performed on the machines.  Each machine $i$ has a capacity of $b_i$ units of work, and each job $j$ requires $a_{ij}$ units of work to be completed if it is scheduled on machine $i$.  All jobs must be assigned to exactly one machine.\n",
    "\n",
    "\n",
    "(a) Suppose that there is a cost $c_{ij}$ for scheduling job $j \\in N$ on machine $i \\in M$.  There is also fixed cost of operating a machine -- that is, in order to schedule any jobs to run on machine $i \\in M$, then you must pay a fixed cost of $h_i$.  Write an integer programming model to determine a least cost assignment of jobs to machines not exceeding the machine capacities in this case.  \n"
   ]
  },
  {
   "cell_type": "markdown",
   "id": "0da12095-db39-4266-a6a3-574e22b7c7c4",
   "metadata": {},
   "source": [
    "### Answer:\n",
    "$$\n",
    "\\begin{align*}\n",
    "\\text{minimize} \\quad & \\sum_{i \\in M} \\sum_{j \\in N} c_{ij}x_{ij} + \\sum_{i \\in M} h_{i}z_{i} \\\\\n",
    "s.t.\\ & \\sum_{j \\in N} a_{ij}x_{ij} \\leq b_{i} \\quad \\forall i \\in M \\\\\n",
    "& \\sum_{i \\in M} x_{ij} = 1 \\quad \\forall j \\in N \\\\\n",
    "& \\sum_{j \\in N} a_{ij}x_{ij} \\leq b_{i}z_{i} \\quad \\forall i \\in M \\\\\n",
    "& x_{ij}, z_i \\in \\{0,1\\} \\quad \\forall i \\in M, j \\in N\\\\\n",
    "\\end{align*}\n",
    "$$"
   ]
  },
  {
   "cell_type": "markdown",
   "id": "d027d7b9-5771-46a5-b825-9dea4b29f17e",
   "metadata": {},
   "source": [
    "(b) Modify your answer to (a) to handle the following logical condition: If you operate at least 3 of the first 10 machines, and you operate at least 3 of the second 10 machines, then you must operate at most 2 of the last 10 machines.  "
   ]
  },
  {
   "cell_type": "markdown",
   "id": "83cb34b9-8836-46e3-80cb-a74e475df0fd",
   "metadata": {},
   "source": [
    "### Answer:\n",
    "\n",
    "$$\n",
    "\\begin{align*}\n",
    "\\text{let} \\quad &\\ M_{1} = \\{1,2,…,10\\} \\textrm{: The first 10 machines.}\\\\\n",
    "& M_{2} = \\{11,12,…,20\\} \\textrm{: The second 10 machines.}\\\\\n",
    "& M_{3} = \\{21,22,…,30\\} \\textrm{: The last 10 machines.}\\\\\n",
    "\\end{align*}\n",
    "$$\n",
    "$$\n",
    "\\begin{align*}\n",
    "\\text{minimize} \\quad & \\sum_{i \\in M} \\sum_{j \\in N} c_{ij}x_{ij} + \\sum_{i \\in M} h_{i}z_{i} \\\\\n",
    "s.t.\\ & \\sum_{j \\in N} a_{ij}x_{ij} \\leq b_{i} \\quad \\forall i \\in M \\\\\n",
    "& \\sum_{i \\in M} x_{ij} = 1 \\quad \\forall j \\in N \\\\\n",
    "& \\sum_{j \\in N} a_{ij}x_{ij} \\leq b_{i}z_{i} \\quad \\forall i \\in M \\\\\n",
    "& \\sum_{i \\in M_{1}} z_i \\geq 3y \\\\\n",
    "& \\sum_{i \\in M_{2}} z_i \\geq 3y \\\\\n",
    "& \\sum_{i \\in M_{3}} z_i \\leq 2 + 8(1-y) \\\\\n",
    "& x_{ij}, z_i \\in \\{0,1\\} \\quad \\forall i \\in M, j \\in N\\\\\n",
    "& y \\in \\{0,1\\}\n",
    "\\end{align*}\n",
    "$$"
   ]
  },
  {
   "cell_type": "markdown",
   "id": "74c6f5de-2860-4000-bdbf-afda7bbbef18",
   "metadata": {},
   "source": [
    "(c) Now suppose that each job $j \\in N$ has a duration (or length) $d_j$. The _makespan_ of a schedule is the length of time it takes to finish all the jobs.  You may remove the conditions imposed in (b). Formulate a model that will minimize the makespan of an assignment of jobs to machines not exceeding the machine capacities, and ensuring that you do not operate more than half (15) of the machines.  There is no longer a fixed or variable cost.\n",
    "\n",
    "### Answer:\n",
    "$$\n",
    "\\begin{align*}\n",
    "\\text{minimize} \\quad & T \\\\\n",
    "s.t.\\ & \\sum_{j \\in N} d_j x_{ij} \\leq T \\quad \\forall i \\in M \\\\\n",
    "& \\sum_{j \\in N} a_{ij} x_{ij} \\leq b_i z_i \\quad \\forall i \\in M \\\\\n",
    "& \\sum_{i \\in M} x_{ij} = 1 \\quad \\forall j \\in N \\\\\n",
    "& \\sum_{i \\in M} z_i \\leq 15 \\\\\n",
    "& x_{ij}, z_i \\in \\{0, 1\\} \\quad \\forall i \\in M, j \\in N \\\\\n",
    "& T \\geq 0 \\\\\n",
    "\\end{align*}\n",
    "$$"
   ]
  },
  {
   "cell_type": "markdown",
   "id": "d2693b60-ddb9-46b0-8be6-1b17fa6fbc3b",
   "metadata": {},
   "source": [
    "(d) For each of the above problems/modifications, we will test different MIP solvers to see the effect on solution time.  For a variety of different MIP solvers (at least two; e.g., Gurobi and Cbc or HiGHS) of your choosing, solve (a), (b), and (c).\n",
    "\n",
    "Report the CPU time and any other observations you make for at least 2 different MIP solvers.What MIP solver did you find most effective? (There isn't a \"right answer\" here; many factors impace MIP solvers, including how you build your model.) "
   ]
  },
  {
   "cell_type": "code",
   "execution_count": 1,
   "id": "7a60bde4-8559-4bf7-9211-e33e1427ca91",
   "metadata": {},
   "outputs": [],
   "source": [
    "using Random\n",
    "using JuMP, Gurobi, HiGHS, Cbc\n",
    "\n",
    "seed = 425 # seed for data generation\n",
    "\n",
    "N = 1:60 # jobs\n",
    "M = 1:30 # machines\n",
    "\n",
    "m = length(M)\n",
    "n = length(N)\n",
    "\n",
    "Random.seed!(seed)\n",
    "\n",
    "# set time lengths of jobs on each machine\n",
    "a = zeros(length(M),length(N))\n",
    "for i in M\n",
    "    for j in N\n",
    "        a[i,j] = round(6+Random.rand()*Random.rand(6:25),digits=2)\n",
    "    end\n",
    "end\n",
    "\n",
    "# capacity of each machine\n",
    "b = Dict(zip(M,[12*sum(a[i,j] for j in N)/length(M) for i in M]))\n",
    "\n",
    "# cost of running jobs on each machine\n",
    "c = zeros(length(M),length(N))\n",
    "for i in M\n",
    "    for j in N\n",
    "        c[i,j] = 20+round(Random.rand()*Random.rand(20:60),digits=2)\n",
    "    end\n",
    "end\n",
    "\n",
    "# fixed cost of each machine\n",
    "h = [30*length(M) for i in M]\n",
    "\n",
    "# duration of each job (for question (c))\n",
    "d = [Random.rand(1:10)*Random.rand()+10 for j in N];"
   ]
  },
  {
   "cell_type": "markdown",
   "id": "77ebe625-4815-4ea9-9eae-24fa03e852ac",
   "metadata": {},
   "source": [
    "### Answer: test (a) "
   ]
  },
  {
   "cell_type": "code",
   "execution_count": 2,
   "id": "ba5be660-85a9-4288-8abe-546aa2bc2460",
   "metadata": {},
   "outputs": [
    {
     "name": "stdout",
     "output_type": "stream",
     "text": [
      "Set parameter Username\n",
      "Academic license - for non-commercial use only - expires 2025-07-17\n",
      "Solution Time with Gurobi Solver:\n",
      "  3.860476 seconds (1.48 M allocations: 98.900 MiB, 0.76% gc time, 26.85% compilation time)\n"
     ]
    }
   ],
   "source": [
    "mod = Model(Gurobi.Optimizer)\n",
    "set_optimizer_attribute(mod, \"OutputFlag\", 0)\n",
    "\n",
    "@variable(mod, x[1:m, 1:n], Bin) # binary variables assign jobs to machines\n",
    "@variable(mod, z[1:m], Bin) # binary variables tell us which machines to use\n",
    "\n",
    "# objective is to minimize cost\n",
    "@objective(mod, Min, sum(c[i,j]*x[i,j] for i in 1:m for j in 1:n)\n",
    "            + sum(h[i]*z[i] for i in 1:m))\n",
    "    \n",
    "# use at most b[i] units of capacity on each machine i\n",
    "@constraint(mod, capacity[i in 1:m], sum(a[i,j]*x[i,j] for j in 1:n) <= b[i])\n",
    "@constraint(mod, jobassign[j in 1:n], sum(x[i,j] for i in 1:m) == 1)\n",
    "# Fixed cost logic\n",
    "@constraint(mod, logic[i in 1:m], sum(a[i,j]*x[i,j] for j in 1:n) <= b[i]*z[i])\n",
    "\n",
    "println(\"Solution Time with Gurobi Solver:\")\n",
    "@time(optimize!(mod))"
   ]
  },
  {
   "cell_type": "code",
   "execution_count": 3,
   "id": "2aaa2ce6-97c6-42ee-9709-dfeed2464e17",
   "metadata": {},
   "outputs": [
    {
     "name": "stdout",
     "output_type": "stream",
     "text": [
      "Solution Time with Cbc Solver:\n",
      " 50.721571 seconds (3.77 M allocations: 253.227 MiB, 0.24% gc time, 4.70% compilation time)\n",
      "Welcome to the CBC MILP Solver \n",
      "Version: 2.10.8 \n",
      "Build Date: Jan  1 1970 \n",
      "\n",
      "command line - Cbc_C_Interface -LogLevel 0 -solve -quit (default strategy 1)\n"
     ]
    }
   ],
   "source": [
    "mod = Model(Cbc.Optimizer)\n",
    "set_optimizer_attribute(mod, \"LogLevel\", 0)\n",
    "\n",
    "@variable(mod, x[1:m, 1:n], Bin) # binary variables assign jobs to machines\n",
    "@variable(mod, z[1:m], Bin) # binary variables tell us which machines to use\n",
    "\n",
    "# objective is to minimize cost\n",
    "@objective(mod, Min, sum(c[i,j]*x[i,j] for i in 1:m for j in 1:n)\n",
    "            + sum(h[i]*z[i] for i in 1:m))\n",
    "    \n",
    "# use at most b[i] units of capacity on each machine i\n",
    "@constraint(mod, capacity[i in 1:m], sum(a[i,j]*x[i,j] for j in 1:n) <= b[i])\n",
    "@constraint(mod, jobassign[j in 1:n], sum(x[i,j] for i in 1:m) == 1)\n",
    "# Fixed cost logic\n",
    "@constraint(mod, logic[i in 1:m], sum(a[i,j]*x[i,j] for j in 1:n) <= b[i]*z[i])\n",
    "\n",
    "println(\"Solution Time with Cbc Solver:\")\n",
    "@time(optimize!(mod))"
   ]
  },
  {
   "cell_type": "markdown",
   "id": "2fef9681-dc09-412a-9234-3e1552892b44",
   "metadata": {},
   "source": [
    "### Answer: test (b) "
   ]
  },
  {
   "cell_type": "code",
   "execution_count": 4,
   "id": "b2f8e2fb-4b52-49e7-b0af-cb5d5050ad76",
   "metadata": {},
   "outputs": [
    {
     "name": "stdout",
     "output_type": "stream",
     "text": [
      "Set parameter Username\n",
      "Academic license - for non-commercial use only - expires 2025-07-17\n",
      "Solution Time with Gurobi Solver:\n",
      "  3.342600 seconds (34.05 k allocations: 2.611 MiB, 1.03% compilation time)\n"
     ]
    }
   ],
   "source": [
    "mod = Model(Gurobi.Optimizer)\n",
    "set_optimizer_attribute(mod, \"OutputFlag\", 0)\n",
    "\n",
    "@variable(mod, x[1:m, 1:n], Bin) # binary variables assign jobs to machines\n",
    "@variable(mod, z[1:m], Bin) # binary variables tell us which machines to use\n",
    "@variable(mod, y, Bin) # binary variable that activates condition 3 if both condition 1 and condition 2 are met\n",
    "\n",
    "# objective is to minimize cost\n",
    "@objective(mod, Min, sum(c[i,j]*x[i,j] for i in 1:m for j in 1:n)\n",
    "            + sum(h[i]*z[i] for i in 1:m))\n",
    "    \n",
    "# use at most b[i] units of capacity on each machine i\n",
    "@constraint(mod, capacity[i in 1:m], sum(a[i,j]*x[i,j] for j in 1:n) <= b[i])\n",
    "@constraint(mod, jobassign[j in 1:n], sum(x[i,j] for i in 1:m) == 1)\n",
    "# Fixed cost logic\n",
    "@constraint(mod, logic[i in 1:m], sum(a[i,j]*x[i,j] for j in 1:n) <= b[i]*z[i])\n",
    "# condition 123\n",
    "@constraint(mod, sum(z[i] for i in 1:10) >= 3y)\n",
    "@constraint(mod, sum(z[i] for i in 11:20) >= 3y)\n",
    "@constraint(mod, sum(z[i] for i in 21:30) <= 2 + 8(1-y))\n",
    "\n",
    "println(\"Solution Time with Gurobi Solver:\")\n",
    "@time(optimize!(mod))"
   ]
  },
  {
   "cell_type": "code",
   "execution_count": 5,
   "id": "cc4aa72a-1aa3-4fcd-89e6-24717de8205d",
   "metadata": {},
   "outputs": [
    {
     "name": "stdout",
     "output_type": "stream",
     "text": [
      "Solution Time with Cbc Solver:\n",
      " 47.987502 seconds (138.78 k allocations: 11.101 MiB, 0.23% compilation time)\n",
      "Welcome to the CBC MILP Solver \n",
      "Version: 2.10.8 \n",
      "Build Date: Jan  1 1970 \n",
      "\n",
      "command line - Cbc_C_Interface -LogLevel 0 -solve -quit (default strategy 1)\n"
     ]
    }
   ],
   "source": [
    "mod = Model(Cbc.Optimizer)\n",
    "set_optimizer_attribute(mod, \"LogLevel\", 0)\n",
    "\n",
    "@variable(mod, x[1:m, 1:n], Bin) # binary variables assign jobs to machines\n",
    "@variable(mod, z[1:m], Bin) # binary variables tell us which machines to use\n",
    "@variable(mod, y, Bin) # binary variable that activates condition 3 if both condition 1 and condition 2 are met\n",
    "\n",
    "# objective is to minimize cost\n",
    "@objective(mod, Min, sum(c[i,j]*x[i,j] for i in 1:m for j in 1:n)\n",
    "            + sum(h[i]*z[i] for i in 1:m))\n",
    "    \n",
    "# use at most b[i] units of capacity on each machine i\n",
    "@constraint(mod, capacity[i in 1:m], sum(a[i,j]*x[i,j] for j in 1:n) <= b[i])\n",
    "@constraint(mod, jobassign[j in 1:n], sum(x[i,j] for i in 1:m) == 1)\n",
    "# Fixed cost logic\n",
    "@constraint(mod, logic[i in 1:m], sum(a[i,j]*x[i,j] for j in 1:n) <= b[i]*z[i])\n",
    "# condition 123\n",
    "@constraint(mod, sum(z[i] for i in 1:10) >= 3y)\n",
    "@constraint(mod, sum(z[i] for i in 11:20) >= 3y)\n",
    "@constraint(mod, sum(z[i] for i in 21:30) <= 2 + 8(1-y))\n",
    "\n",
    "println(\"Solution Time with Cbc Solver:\")\n",
    "@time(optimize!(mod))"
   ]
  },
  {
   "cell_type": "markdown",
   "id": "f322aca6-3542-4529-b97d-902845ad1788",
   "metadata": {},
   "source": [
    "### Answer: test (c) "
   ]
  },
  {
   "cell_type": "code",
   "execution_count": 6,
   "id": "c083c303-f0a2-46f7-8f13-e977436137d6",
   "metadata": {},
   "outputs": [
    {
     "name": "stdout",
     "output_type": "stream",
     "text": [
      "Set parameter Username\n",
      "Academic license - for non-commercial use only - expires 2025-07-17\n",
      "Solution Time with Gurobi Solver:\n",
      "Set parameter MIPFocus to value 1\n",
      "Set parameter TimeLimit to value 100\n",
      "100.160768 seconds (356.38 k allocations: 14.212 MiB, 0.15% gc time, 0.15% compilation time)\n",
      "Time limit reached. Best feasible solution found.\n"
     ]
    }
   ],
   "source": [
    "mod = Model(Gurobi.Optimizer)\n",
    "set_optimizer_attribute(mod, \"OutputFlag\", 0)\n",
    "set_optimizer_attribute(mod, \"TimeLimit\", 100) # Set a time limit of 300 seconds\n",
    "set_optimizer_attribute(mod, \"MipFocus\", 1)    # Focus on finding feasible solutions\n",
    "\n",
    "@variable(mod, x[1:m, 1:n], Bin) # binary variables assign jobs to machines\n",
    "@variable(mod, z[1:m], Bin) # binary variables tell us which machines to use\n",
    "@variable(mod, T >= 0) # continuous variable representing the makespan\n",
    "\n",
    "# objective is to minimize cost\n",
    "@objective(mod, Min, T)\n",
    "    \n",
    "# use at most b[i] units of capacity on each machine i\n",
    "@constraint(mod, capacity[i in 1:m], sum(a[i,j]*x[i,j] for j in 1:n) <= b[i])\n",
    "@constraint(mod, jobassign[j in 1:n], sum(x[i,j] for i in 1:m) == 1)\n",
    "# Fixed cost logic\n",
    "@constraint(mod, logic[i in 1:m], sum(a[i,j]*x[i,j] for j in 1:n) <= b[i]*z[i])\n",
    "# Makespan constraint\n",
    "@constraint(mod, makespan[i in 1:m], sum(d[j]*x[i,j] for j in 1:n) <= T)\n",
    "# Machine usage constraint\n",
    "@constraint(mod, sum(z[i] for i in 1:m) <= 15)\n",
    "\n",
    "println(\"Solution Time with Gurobi Solver:\")\n",
    "@time(optimize!(mod))\n",
    "\n",
    "# Check if the solver found an optimal solution\n",
    "if termination_status(mod) == MOI.OPTIMAL\n",
    "    println(\"Optimal solution found.\")\n",
    "elseif termination_status(mod) == MOI.TIME_LIMIT\n",
    "    println(\"Time limit reached. Best feasible solution found.\")\n",
    "else\n",
    "    println(\"Solver did not converge to an optimal solution.\")\n",
    "end\n"
   ]
  },
  {
   "cell_type": "code",
   "execution_count": 7,
   "id": "96cb1439-41c5-4827-b066-27b63d76721f",
   "metadata": {},
   "outputs": [
    {
     "name": "stdout",
     "output_type": "stream",
     "text": [
      "Solution Time with Cbc Solver:\n",
      "101.279262 seconds (531.27 k allocations: 36.920 MiB, 0.02% gc time, 0.40% compilation time)\n",
      "Time limit reached. Best feasible solution found.\n",
      "Welcome to the CBC MILP Solver \n",
      "Version: 2.10.8 \n",
      "Build Date: Jan  1 1970 \n",
      "\n",
      "command line - Cbc_C_Interface -LogLevel 0 -Seconds 100 -solve -quit (default strategy 1)\n"
     ]
    }
   ],
   "source": [
    "mod = Model(Cbc.Optimizer)\n",
    "set_optimizer_attribute(mod, \"LogLevel\", 0)\n",
    "set_optimizer_attribute(mod, \"Seconds\", 100) # Set a time limit of 300 seconds\n",
    "\n",
    "@variable(mod, x[1:m, 1:n], Bin) # binary variables assign jobs to machines\n",
    "@variable(mod, z[1:m], Bin) # binary variables tell us which machines to use\n",
    "@variable(mod, T >= 0) # continuous variable representing the makespan\n",
    "\n",
    "# objective is to minimize cost\n",
    "@objective(mod, Min, T)\n",
    "    \n",
    "# use at most b[i] units of capacity on each machine i\n",
    "@constraint(mod, capacity[i in 1:m], sum(a[i,j]*x[i,j] for j in 1:n) <= b[i])\n",
    "@constraint(mod, jobassign[j in 1:n], sum(x[i,j] for i in 1:m) == 1)\n",
    "# Fixed cost logic\n",
    "@constraint(mod, logic[i in 1:m], sum(a[i,j]*x[i,j] for j in 1:n) <= b[i]*z[i])\n",
    "# Makespan constraint\n",
    "@constraint(mod, makespan[i in 1:m], sum(d[j]*x[i,j] for j in 1:n) <= T)\n",
    "# Machine usage constraint\n",
    "@constraint(mod, sum(z[i] for i in 1:m) <= 15)\n",
    "\n",
    "println(\"Solution Time with Cbc Solver:\")\n",
    "@time(optimize!(mod))\n",
    "\n",
    "# Check if the solver found an optimal solution\n",
    "if termination_status(mod) == MOI.OPTIMAL\n",
    "    println(\"Optimal solution found.\")\n",
    "elseif termination_status(mod) == MOI.TIME_LIMIT\n",
    "    println(\"Time limit reached. Best feasible solution found.\")\n",
    "else\n",
    "    println(\"Solver did not converge to an optimal solution.\")\n",
    "end"
   ]
  },
  {
   "cell_type": "markdown",
   "id": "a285968e-7180-4d41-9695-faa3c5215ff1",
   "metadata": {},
   "source": [
    "### Answer: (d)\n",
    "Testing Gurobi and Cbc solvers revealed significant differences in solution times. Gurobi consistently outperformed Cbc, solving problems much faster, while Cbc was 10-20 times slower, despite using less memory. Overall, Gurobi proved to be the most effective solver. However, Cbc remains a viable option for smaller problems or when a commercial solver is unavailable."
   ]
  },
  {
   "cell_type": "markdown",
   "id": "c616f63b-2080-424f-a560-5a4aa6726820",
   "metadata": {},
   "source": [
    "## Problem 2 -- Paint Cleaning\n",
    "\n",
    "Your friend has decided to start a side hustle as a freelance painter. They are using a set of $n$ different paint batches, which they produce using a single paint mixer. The mixer needs to be cleaned between every pair of batches produced. \n",
    "\n",
    "The mixer cleaning times depend of the colors and the paint types.  For example, a long cleaning period is required if an oil-based paint is produced after a water-based paint, or to produce white paint after a\n",
    "dark color.  The times are given in minutes in the following table, where where each entry $(i,j)$ denotes the cleaning time between batch $i$ and batch $j$.  It also takes some amount of time $d_i$ to mix each batch, given in the second table below. \n",
    "\n",
    "\\begin{array}{c|cccccccccc}\n",
    "    & 1 & 2 & 3 & 4 & 5 & 6 & 7 & 8 & 9 & 10 \\\\\n",
    "    \\hline\n",
    "    1  & 0  & 11 & 7  & 13 & 11 & 12 & 4  & 9  & 7  & 11 \\\\\n",
    "    2  & 5  & 0  & 13 & 15 & 15 & 6  & 8  & 10 & 9  & 8  \\\\\n",
    "    3  & 13 & 15 & 0  & 23 & 11 & 11 & 16 & 18 & 5  & 7  \\\\\n",
    "    4  & 9  & 13 & 5  & 0  & 3  & 8  & 10 & 12 & 14 & 5  \\\\\n",
    "    5  & 3  & 7  & 7  & 7  & 0  & 9  & 10 & 11 & 12 & 13 \\\\\n",
    "    6  & 10 & 6  & 3  & 4  & 14 & 0  & 8  & 5  & 11 & 12 \\\\\n",
    "    7  & 4  & 6  & 7  & 3  & 13 & 7  & 0  & 10 & 4  & 6  \\\\\n",
    "    8  & 7  & 8  & 9  & 9  & 12 & 11 & 10 & 0  & 10 & 9  \\\\\n",
    "    9  & 9  & 14 & 8  & 4  & 9  & 6  & 10 & 8  & 0  & 12 \\\\\n",
    "    10 & 11 & 17 & 11 & 6  & 10 & 4  & 7  & 9  & 11 & 0  \\\\\n",
    "\\end{array}\n",
    " \n",
    "|paint|mix time|\n",
    "|--|--|\n",
    "|1|40|\n",
    "|2|35|\n",
    "|3|45|\n",
    "|4|32|\n",
    "|5|50|\n",
    "|6|42|\n",
    "|7|44|\n",
    "|8|30|\n",
    "|9|33|\n",
    "|10|55|\n",
    "\n",
    "\n",
    "Since your friend has other obligations, they want to deal with this weekly production in the shortest possible time (mixing and cleaning).  What is the optimal order of paint batches to mix?  The order will be applied every week, so the cleaning time between the last batch of one week and the first of the following week needs to be accounted for in the total duration of cleaning.  \n",
    "\n",
    "Solve this problem as a TSP. You may use either MTZ reformulation or subtour elimination (or both, for fun!).\n",
    "\n",
    "### Answer:"
   ]
  },
  {
   "cell_type": "code",
   "execution_count": 8,
   "id": "9826b473-8f61-44b6-b077-cd976a7332ce",
   "metadata": {},
   "outputs": [
    {
     "data": {
      "text/plain": [
       "getAllSubtours (generic function with 1 method)"
      ]
     },
     "execution_count": 8,
     "metadata": {},
     "output_type": "execute_result"
    }
   ],
   "source": [
    "# Miller-Tucker-Zemlin formulation\n",
    "# Define the problem data (panits and cleaning time)\n",
    "using JuMP, NamedArrays, Gurobi\n",
    "\n",
    "panits = [:1, :2, :3, :4, :5, :6, :7, :8, :9, :10]\n",
    "clean_time = [0 11 7 13 11 12 4 9 7 11;\n",
    "                5 0 13 15 15 6 8 10 9 8;\n",
    "                13 15 0 23 11 11 16 18 5 7;\n",
    "                9 13 5 0 3 8 10 12 14 5;\n",
    "                3 7 7 7 0 9 10 11 12 13;\n",
    "                10 6 3 4 14 0 8 5 11 12;\n",
    "                4 6 7 3 13 7 0 10 4 6;\n",
    "                7 8 9 9 12 11 10 0 10 9;\n",
    "                9 14 8 4 9 6 10 8 0 12 ;\n",
    "                11 17 11 6 10 4 7 9 11 0]\n",
    "\n",
    "mix_time = [40, 35, 45, 32, 50, 42, 44, 30, 33, 55]\n",
    "\n",
    "t = NamedArray(clean_time,(panits,panits))\n",
    "total_mix_time = sum(mix_time)\n",
    "# print(total_mix_time)\n",
    "N = size(clean_time,1)\n",
    "\n",
    "# HELPER FUNCTION: returns the cycle containing the panits START.\n",
    "function getSubtour(x,start)\n",
    "    subtour = [start]\n",
    "    while true\n",
    "        j = subtour[end]\n",
    "        for k in panits\n",
    "            if x[k,j] == 1\n",
    "                push!(subtour,k)\n",
    "                break\n",
    "            end\n",
    "        end\n",
    "        if subtour[end] == start\n",
    "            break\n",
    "        end\n",
    "    end\n",
    "    return subtour\n",
    "end\n",
    "\n",
    "# HELPER FUNCTION: returns a list of all cycles\n",
    "function getAllSubtours(x)\n",
    "    nodesRemaining = panits\n",
    "    subtours = []\n",
    "    while length(nodesRemaining) > 0\n",
    "        subtour = getSubtour(x,nodesRemaining[1])\n",
    "        push!(subtours, subtour)\n",
    "        nodesRemaining = setdiff(nodesRemaining,subtour)\n",
    "    end\n",
    "    return subtours\n",
    "end"
   ]
  },
  {
   "cell_type": "code",
   "execution_count": 9,
   "id": "a00cfd47-4e42-4b66-9e74-f1c50fcb689d",
   "metadata": {},
   "outputs": [
    {
     "name": "stdout",
     "output_type": "stream",
     "text": [
      "Set parameter Username\n",
      "Academic license - for non-commercial use only - expires 2025-07-17\n",
      "The optimal order of paint batches to mix: Any[[1, 5, 4, 9, 3, 6, 10, 8, 2, 7, 1]]\n",
      "Total time: 457.0\n"
     ]
    }
   ],
   "source": [
    "m = Model(Gurobi.Optimizer)\n",
    "set_optimizer_attribute(m, \"OutputFlag\", 0)\n",
    "\n",
    "@variable(m, x[panits, panits], Bin)                                      # must formulate as IP this time\n",
    "@constraint(m, c1[j in panits], sum( x[i,j] for i in panits ) == 1)      # one after paint\n",
    "@constraint(m, c2[i in panits], sum( x[i,j] for j in panits ) == 1)      # one before paint\n",
    "@constraint(m, c3[i in panits], x[i,i] == 0 )                            # no self-loops\n",
    "@objective(m, Min, sum( x[i,j]*t[i,j] for i in panits, j in panits ))   # minimize total clean time\n",
    "                                    \n",
    "# MTZ variables and constraints\n",
    "@variable(m, u[panits])\n",
    "@constraint(m, logic[i in panits, j in panits[2:end]], u[i] - u[j] + N*x[i,j] <= N-1 )\n",
    "\n",
    "optimize!(m)\n",
    "xx = value.(x)\n",
    "subtours = getAllSubtours(xx) \n",
    "print(\"The optimal order of paint batches to mix: \", subtours, \"\\n\")\n",
    "# display(subtours)\n",
    "println(\"Total time: \", objective_value(m) + total_mix_time)"
   ]
  },
  {
   "cell_type": "code",
   "execution_count": null,
   "id": "307452a2-4daf-44d7-b57d-03105b90c899",
   "metadata": {},
   "outputs": [],
   "source": []
  }
 ],
 "metadata": {
  "kernelspec": {
   "display_name": "Julia 1.10.4",
   "language": "julia",
   "name": "julia-1.10"
  },
  "language_info": {
   "file_extension": ".jl",
   "mimetype": "application/julia",
   "name": "julia",
   "version": "1.10.4"
  }
 },
 "nbformat": 4,
 "nbformat_minor": 5
}
