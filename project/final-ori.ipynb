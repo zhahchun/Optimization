{
 "cells": [
  {
   "cell_type": "markdown",
   "id": "fa9f58f3-8867-4e53-ad7d-1f57168c74bc",
   "metadata": {},
   "source": [
    "### CS/ECE/ISyE 524 &mdash; Introduction to Optimization &mdash; Summer 2024 ###\n",
    "\n",
    "# University Course Timetabling Problem #\n",
    "\n",
    "#### Evelyn Yeh (eyeh6@wisc.edu), Yi-Chun Chen (chen2524@wisc.edu)\n",
    "\n",
    "### Table of Contents\n",
    "\n",
    "1. [Introduction](#1.-Introduction)\n",
    "1. [Mathematical Model](#2.-Mathematical-model)\n",
    "1. [Solution](#3.-Solution)\n",
    "1. [Results and Discussion](#4.-Results-and-discussion)\n",
    "1. [Conclusion](#5.-Conclusion)"
   ]
  },
  {
   "cell_type": "markdown",
   "id": "7d14be58-51e6-4b84-b352-69c4f19b372d",
   "metadata": {
    "jp-MarkdownHeadingCollapsed": true
   },
   "source": [
    "## 1. Introduction ##\n",
    "\n",
    "In this project, the problem we would tackle is the timetabling problem, more specifically, the university course timetabling problem. We will first nail down the scope of the problem we want to address, then we will discuss the corresponding data generation. With the data in hand, we will create our model step by step, with each iteration handling more constraints within our problem scope. Lastly, we will discuss the result of our model, and some improvements we think that can be made.\n",
    "\n",
    "[Timetabling problems](https://www.degruyter.com/document/doi/10.1515/jisys-2022-0003/html) are a specific type of scheduling problem that manages assignments of events into timeslots. These assignments could be subject to a number of hard and soft requirements, the goal is to find a valid assignment that satisfies all hard-requirements while satisfying as much of the soft-requirements as possible.\n",
    "\n",
    "The recent Olympic Games is an excellent example of a particularly challenging timetabling problem, with a variety of constraints, such as time, venue, personnel, and transportation. Aside from sporting events, there are many other variations and applications of this problem across different fields, such as airport slot-scheduling, logistical scheduling, shift management, and university timetabling.\n",
    "\n",
    "Of these problems, the field we feel that is most applicable to us is [university timetabling](https://onlinelibrary.wiley.com/doi/10.1155/2021/6617177), which could be divided into examination timetabling and course timetabling problems, we chose to address the instructor allocation variation of the University Course Timetabling Problem (UCTP).\n",
    "\n",
    "The premise of the problem we chose is as follows: We are designing a weekly schedule for the classes of an educational institution, for each class there are a number of subjects that all have a fixed number of periods required each week. Each class is assigned an instructor for a specific subject, and each instructor could be responsible for more than one class. The goal is to create a schedule that has no conflict for the classes and the instructors, there could also be some kind of preference that we need to try to satisfy while maintaining a valid schedule.\n",
    "\n",
    "For our problem, we set the size of each parameter as follows: the number of timeslots each day is four, the subjects are only held in the five weekdays, there are two classes we are scheduling for, all having seven subjects to cover, one to two instructor is available for each subject.\n",
    "\n",
    "We also setup some additional requirements, some instructor might be unavailable for certain timeslots, and some subjects might be limited to be held in certain timeslots. Some kind of preference for the schedule is also needed, drawing from our own experience, multiple periods of the same subject in a single day is generally disliked, so this is the trait that we choose to minimize.\n",
    "\n",
    "To test the capability of our model, suitable data is needed. Because the size of the required data is not exceptionally large, we chose to handcraft the data.\n"
   ]
  },
  {
   "cell_type": "markdown",
   "id": "e9b5ff21-134c-4cb8-ae68-f362cc3ab22a",
   "metadata": {},
   "source": [
    "## 2. Mathematical model ##\n",
    "\n",
    "To start building our model, we first consider the simplest case, where there is no additional requirements, in other words, how do we assign instructors such that each class has exactly the number of required periods for all the subjects while avoiding any conflict in our schedule, such as instructors assigned to two classes at the same time, or a class assigned two subjects at the same time. Another constraint to consider is that instructor not assigned to a class should not have any subject scheduled for that class.\n",
    "\n",
    "We need the total number of periods for each subject across all periods and weekdays to be equal to the required amount, the total number of classes each instructor is assigned to for each period is smaller or equal to one, the total number of subjects each class is scheduled for each periods is smaller or equal to one.\n",
    "\n",
    "Limiting instructors to not be assigned to the wrong class is a bit tricky, we achieve this by having a binary data representing if each instructor is assigned to one of the classes, and limiting the total number of periods the instructor is assigned to this class to be less than or equal this data multiplied by the total number of possible periods. This way any assignment to wrong class would not happen, and any assignment to the correct class would not be blocked.\n",
    "\n",
    "Now we can tackle the task of modeling the additional requirements, which is limiting some instructors to not be assigned on certain time, and some classes must be assigned to certain times.\n",
    "\n",
    "To achieve this we create another binary data representing if a subject can occur on a certain period for each class, this value is set to one by default, but changes to zero if the corresponding instructor is not available at this period or this class is mandated to be held at other periods. For each period since there could only be one subject assigned to it, we just need to limit the total assigned period at this period for each subject (which will be either zero or one) to be less than or equal to this binary data.\n",
    "\n",
    "The last problem to solve is the preference, which will become our objective function. We want to somehow penalize having more than one of each subject assigned to a single weekday, a simple way is to add the number of times each subject is assigned for each weekday, but this basically also penalize having one period assigned, which is not correct. We could subtract this value by one and clamp it to be non-negative, the obvious way to do this is with a max function, but this cannot directly be done in a linear formulation.\n",
    "\n",
    "The solution we came up with is to have a penalty variable for each class’s subject at each weekday and limit this variable to be the previously mentioned sum of occurrence minus one. But we also limit this variable to always be greater or equal to zero. Since we are ultimately minimizing this variable, any choice that is unnecessarily large would always be suboptimal, so it would always be optimized to be as close to the value we want to represent the penalty.\n",
    "\n",
    "We can now finally formulate our problem as follows:\n",
    "\n",
    "$$\n",
    "\\begin{alignat*}{2}\n",
    "\\qquad\\qquad\\qquad\\textrm{let}\\quad&\\textrm{N be the set of Time slots, M be the set of Weekdays}\\\\\n",
    "&\\textrm{K be the set of Instructors, U be the set of Subjects}\\\\\n",
    "&\\textrm{B be the set of Classes}\\\\\n",
    "&c_{ub}\\textrm{ as the number of subject }u\\in U\\textrm{ for class }b\\in B\\\\\n",
    "&t_{kub}\\textrm{ as whether instructor }k\\in K\\textrm{ is responsible for subject }u\\in U\\textrm{ for class }b\\in B\\\\\n",
    "&p_{ijub}\\textrm{ as the upper bound of subject }u\\in U\\textrm{ for class }b\\in B\\\\\n",
    "&\\textrm{ to be held on time slot }i\\in N \\textrm{ of weekday }j\\in M\\\\\n",
    "&v_{ijkb}\\textrm{ as whether instructor is available }k\\in K\\textrm{ for class }b\\in B\\\\\n",
    "&\\textrm{at time slot }i\\in N \\textrm{ of weekday }j\\in M\n",
    "\\end{alignat*}\n",
    "$$\n",
    "$$\n",
    "\\begin{alignat*}{2}\n",
    "\\textrm{maximize:}\\quad&\\sum_{j\\in M, u\\in U, b\\in B}\\textrm{\\textit{-penalty}}_{jub}&\\\\\n",
    "\\textrm{subject to:}\\quad& x_{ijkub} \\leq 1 &\\forall i\\in N, j\\in M, k\\in K, b\\in B\\\\\n",
    "& {\\textit{penalty}}_{jub} \\leq |N|*|K| &\\forall j\\in M, u\\in U, b\\in B\\\\\n",
    "& \\sum_{i\\in N, j\\in M, k\\in K}{x_{ijkub}} \\leq c_{ub} &\\forall u\\in U, b\\in B\\\\\n",
    "& \\sum_{i\\in N, j\\in M, k\\in K}{-x_{ijkub}} \\leq -c_{ub} &\\forall u\\in U, b\\in B\\\\\n",
    "& \\sum_{u\\in U, k\\in K}{x_{ijkub}} \\leq 1 &\\forall i\\in N, j\\in M, b\\in B\\\\\n",
    "& \\sum_{u\\in U, b\\in B}{x_{ijkub}} \\leq 1 &\\forall i\\in N, j\\in M, k\\in K\\\\\n",
    "&\\sum_{i\\in N, j\\in M}{x_{ijkub}} \\leq t_{kub}*|N|*|M| &\\forall k\\in K, u\\in U, b\\in B\\\\\n",
    "& \\sum_{k\\in K}x_{ijkub} \\leq p_{ijub} &\\forall i\\in N, j\\in M, u\\in U, b\\in B\\\\\n",
    "& \\sum_{u\\in U}x_{ijkub} \\leq v_{ijkb} &\\forall i\\in N, j\\in M, k\\in K, b\\in B\\\\\n",
    "& \\textrm{\\textit{penalty}}_{jub} \\geq \\sum_{i\\in N, k\\in K}{x_{ijkub}}-1 &\\forall j\\in M, u\\in U, b\\in B\\\\\n",
    "& \\textrm{\\textit{penalty}}_{jub} \\geq 0 &\\forall j\\in M, u\\in U, b\\in B\\\\\n",
    "& x_{ijkub} \\geq 0 &\\forall j\\in M, u\\in U, b\\in B\n",
    "\\end{alignat*}\n",
    "$$\n",
    "\n",
    "Since the schedule matrix can only be 0 or 1, our problem is a Mixed-Integer Programming problem."
   ]
  },
  {
   "cell_type": "markdown",
   "id": "82591bd3-0236-4911-b266-aee820df0a0b",
   "metadata": {},
   "source": [
    "## 3. Solution ##\n",
    "\n",
    "Now comes the part where we will show how we solve the previously showed problem.\n",
    "\n",
    "We will do this in several steps, first we will setup the data structures for the input data to efficiently represent the subjects of each subject. Then the data used for testing will be handcrafted. With the data ready we will start building our model by parsing the data into corresponding matrix forms, then create all the constraints for the problem defined in the previous section, lastly we will create the objective function and run the optimzer."
   ]
  },
  {
   "cell_type": "markdown",
   "id": "0f24e763-4a90-4263-b211-a60c4a910e48",
   "metadata": {},
   "source": [
    "We use the following two data structures to represent how a time slot and subject is defined."
   ]
  },
  {
   "cell_type": "code",
   "execution_count": 9,
   "id": "7f2af871-49f8-4c19-9f4d-c115d8fecf08",
   "metadata": {},
   "outputs": [],
   "source": [
    "struct timeslot_info\n",
    "    weekday::Symbol\n",
    "    timeslot::Int\n",
    "end\n",
    "struct subject_info\n",
    "    subject::Symbol\n",
    "    class::Int\n",
    "    required_periods::Int\n",
    "    instructors::Vector{Symbol}\n",
    "    mandated_timeslot::Vector{timeslot_info}\n",
    "end"
   ]
  },
  {
   "cell_type": "markdown",
   "id": "ce6b5520-865e-47c6-8899-2cb1729cc64c",
   "metadata": {},
   "source": [
    "With the data structures set, we will now create our hand crafted data using these data structures. As stated in the previous section, our data will contain subject data for two classes, each class having seven subjects to cover, with each subject having one or more instructor to choose from. Our instructors could also be unvailable for certain time slots, and some subjects might be mandated to only be schedule in certain time slots."
   ]
  },
  {
   "cell_type": "code",
   "execution_count": 10,
   "id": "a05571d3-30a3-4f25-b5f4-d6a0ee232405",
   "metadata": {},
   "outputs": [],
   "source": [
    "using JuMP, HiGHS\n",
    "subjects = [:English, :Biology, :History_Geography, :Mathematics, :Physics, :Philosophy, :Sport]\n",
    "instructors = [:MrCheese, :MrsInsulin, :MrMap, :MrEffofecks, :MrsDerivate, :MrsElectron, :MrWise, :MrMuscle, :MrsBiceps]\n",
    "class = [1, 2]\n",
    "weekdays = [:Mon, :Tue, :Wed, :Thu, :Fri]\n",
    "timeslots = [1, 2, 3, 4]\n",
    "subject_data = [\n",
    "    subject_info(:English, 1, 1, [:MrCheese], []),\n",
    "    subject_info(:Biology, 1, 3, [:MrsInsulin], []),\n",
    "    subject_info(:History_Geography, 1, 2, [:MrMap], []),\n",
    "    subject_info(:Mathematics, 1, 6, [:MrEffofecks, :MrsDerivate], []),\n",
    "    subject_info(:Physics, 1, 4, [:MrsElectron, :MrEffofecks], []),\n",
    "    subject_info(:Philosophy, 1, 1, [:MrWise], []),\n",
    "    subject_info(:Sport, 1, 2, [:MrMuscle, :MrsBiceps], [timeslot_info(:Thu, 3), timeslot_info(:Thu, 4), timeslot_info(:Fri, 3), timeslot_info(:Fri, 4)]),\n",
    "    subject_info(:English, 2, 2, [:MrCheese], []),\n",
    "    subject_info(:Biology, 2, 3, [:MrsInsulin], []),\n",
    "    subject_info(:History_Geography, 2, 3, [:MrMap], []),\n",
    "    subject_info(:Mathematics, 2, 4, [:MrsDerivate], []),\n",
    "    subject_info(:Physics, 2, 3, [:MrsElectron], []),\n",
    "    subject_info(:Philosophy, 2, 2, [:MrWise], []),\n",
    "    subject_info(:Sport, 2, 2, [:MrMuscle, :MrsBiceps], [timeslot_info(:Thu, 3), timeslot_info(:Thu, 4), timeslot_info(:Fri, 3), timeslot_info(:Fri, 4)]),\n",
    "]\n",
    "unavailable_instructor = [(:MrEffofecks, timeslot_info(:Mon, 1)), (:MrEffofecks, timeslot_info(:Mon, 3)),\n",
    "                          (:MrsInsulin, timeslot_info(:Wed, 1)), (:MrsInsulin, timeslot_info(:Wed, 2)),\n",
    "                          (:MrsInsulin, timeslot_info(:Wed, 3)), (:MrsInsulin, timeslot_info(:Wed, 4))];"
   ]
  },
  {
   "cell_type": "markdown",
   "id": "8a071300-227d-4910-8d5b-97cb111dfbee",
   "metadata": {},
   "source": [
    "Now that we added the data in a human readable way, we need to convert it into matrix form for our model, we have a total of four matrix needed, which includes: The required period count of each subject for each class, the maximum number of period each instructor could be assigned to each class for each subject, the maximum number of period each subject can be assigned to each class for each time slot, and lastly, the maximum number of period each instructor can be assigned to each time slot."
   ]
  },
  {
   "cell_type": "code",
   "execution_count": 11,
   "id": "8ec682fc-0a3c-44fb-b9c2-584149c00d76",
   "metadata": {},
   "outputs": [],
   "source": [
    "timeslot_size = size(timeslots)[1]\n",
    "weekday_size = size(weekdays)[1]\n",
    "subject_size = size(subjects)[1]\n",
    "class_size = size(class)[1]\n",
    "instructor_size = size(instructors)[1]\n",
    "subject_count = Containers.DenseAxisArray(fill(0, (class_size, subject_size)), class, subjects)\n",
    "# This limit is used to unsure no instructor is assigned to classes that they were not responsible for.\n",
    "instructor_limit = Containers.DenseAxisArray(fill(0, (class_size, subject_size, instructor_size)), class, subjects, instructors)\n",
    "subject_availability = Containers.DenseAxisArray(fill(0, (class_size, subject_size, weekday_size, timeslot_size)), class, subjects, weekdays, timeslots)\n",
    "instructor_availability = Containers.DenseAxisArray(fill(1, (class_size, instructor_size, weekday_size, timeslot_size)), class, instructors, weekdays, timeslots)\n",
    "for sd in subject_data\n",
    "    subject_count[sd.class, sd.subject] = sd.required_periods\n",
    "    for inst in sd.instructors\n",
    "        # Set the limit to max, this instructor is now open to be assigned to any number of subjects for this subject of this class.\n",
    "        instructor_limit[sd.class, sd.subject, inst] = weekday_size*timeslot_size\n",
    "    end\n",
    "    if isempty(sd.mandated_timeslot)\n",
    "    # If there are no mandated timeslot, all timeslots becomes available.\n",
    "        for wd in weekdays\n",
    "            for ts in timeslots\n",
    "                subject_availability[sd.class, sd.subject, wd, ts] = 1\n",
    "            end\n",
    "        end\n",
    "    else\n",
    "        for ts_info in sd.mandated_timeslot\n",
    "            subject_availability[sd.class, sd.subject, ts_info.weekday, ts_info.timeslot] = 1\n",
    "        end\n",
    "    end\n",
    "end\n",
    "\n",
    "for data in unavailable_instructor\n",
    "    inst, ts_data = data[1], data[2]\n",
    "    for c in class\n",
    "        instructor_availability[c, inst, ts_data.weekday, ts_data.timeslot] = 0\n",
    "    end\n",
    "end"
   ]
  },
  {
   "cell_type": "markdown",
   "id": "555bbad5-8657-431d-a5e3-132bfaaa510d",
   "metadata": {},
   "source": [
    "With the data ready, we can start building our model for this problem. First we need to set all the constraints sans the ones for the objective function, with these constraint set we ensure the schedule generated would always be valid."
   ]
  },
  {
   "cell_type": "code",
   "execution_count": 12,
   "id": "05e312df-5d98-4013-ae1a-da42fb2d1db5",
   "metadata": {},
   "outputs": [],
   "source": [
    "m = Model(HiGHS.Optimizer)\n",
    "set_silent(m)\n",
    "@variable(m, x[timeslots, weekdays, instructors, subjects, class], Bin)\n",
    "for subject in subjects\n",
    "    for c in class\n",
    "        # Constraint to ensure all the subjects for the classes have all the requried period scheduled.\n",
    "        @constraint(m, sum(x[ts, wd, inst, subject, c] for ts in timeslots, wd in weekdays, inst in instructors) == subject_count[c, subject])\n",
    "    end\n",
    "end\n",
    "for ts in timeslots\n",
    "    for wd in weekdays\n",
    "        for c in class\n",
    "            # Constraint to ensure that for each class, no conflict arise from having multiple subjects scheduled at a single time slot.\n",
    "            @constraint(m, sum(x[ts, wd, inst, subject, c] for inst in instructors, subject in subjects) <= 1)\n",
    "        end\n",
    "    end\n",
    "end\n",
    "for ts in timeslots\n",
    "    for wd in weekdays\n",
    "        for inst in instructors\n",
    "            # Constraint to ensure that for each instructor, no conflict arise from having multiple subjects scheduled for a single time slot.\n",
    "            @constraint(m, sum(x[ts, wd, inst, subject, c] for subject in subjects, c in class) <= 1)\n",
    "        end\n",
    "    end\n",
    "end\n",
    "for c in class\n",
    "    for subject in subjects\n",
    "        for inst in instructors\n",
    "            # Constraint to prevent intructors from being assigned to classes that are not their responsibility.\n",
    "            # Classes that they are not responsible for will always have the limit set to zero, and classes\n",
    "            # they are responsible for will have the limit set to the total amount of time slots available each week.\n",
    "            @constraint(m, sum(x[ts, wd, inst, subject, c] for ts in timeslots, wd in weekdays) <= instructor_limit[c, subject, inst])\n",
    "        end\n",
    "    end\n",
    "end\n",
    "for c in class\n",
    "    for subject in subjects\n",
    "        for wd in weekdays\n",
    "            for ts in timeslots\n",
    "                # New constraint for the mandated timeslots, if there are time slot(s) mandated for this course, availablility for\n",
    "                # all other time slots will be set to zero.\n",
    "                # While not in the scope of our problem, this could also be used to blacklist time slots.\n",
    "                @constraint(m, sum(x[ts, wd, inst, subject, c] for inst in instructors) <= subject_availability[c, subject, wd, ts])\n",
    "            end\n",
    "        end\n",
    "    end\n",
    "end\n",
    "for c in class\n",
    "    for inst in instructors\n",
    "        for wd in weekdays\n",
    "            for ts in timeslots\n",
    "                # Constraint for instructor availability, if the instructor is unavailable for certain time slots, this ensures\n",
    "                # these time slots have no subjects scheduled for the instructor.\n",
    "                @constraint(m, sum(x[ts, wd, inst, subject, c] for subject in subjects) <= instructor_availability[c, inst, wd, ts])\n",
    "            end\n",
    "        end\n",
    "    end\n",
    "end"
   ]
  },
  {
   "cell_type": "markdown",
   "id": "e221fe10-af79-47d3-af5e-4eaece7c0271",
   "metadata": {},
   "source": [
    "With the hard requirements to generate valid schedules ready, we can now move on to the objective function. Because of the previously mentioned problem with using max functions, we have to use a penalty variable and setup constraint for it so it can become a proxy for our calculation."
   ]
  },
  {
   "cell_type": "code",
   "execution_count": 13,
   "id": "7d3819b0-bd0f-418c-87a5-50af1fa67c95",
   "metadata": {},
   "outputs": [],
   "source": [
    "@variable(m, penalty[weekdays, subjects, class])\n",
    "for wd in weekdays\n",
    "    for subject in subjects\n",
    "        for c in class\n",
    "            A, B = sum(x[ts, wd, inst, subject, c] for ts in timeslots, inst in instructors)-1, 0\n",
    "            @constraint(m, penalty[wd, subject, c] >= A)\n",
    "            @constraint(m, penalty[wd, subject, c] >= B)\n",
    "        end\n",
    "    end\n",
    "end\n",
    "@objective(m, Min, sum(penalty[wd, subject, c] for wd in weekdays, subject in subjects, c in class));"
   ]
  },
  {
   "cell_type": "markdown",
   "id": "b49085df-b222-48a7-a6f4-f4c8e81e7d66",
   "metadata": {},
   "source": [
    "With everything ready, we can run the optimizer and generate a schedule for each of the classes."
   ]
  },
  {
   "cell_type": "code",
   "execution_count": 14,
   "id": "984e1986-d7f7-45d1-bd41-321b60350b82",
   "metadata": {},
   "outputs": [],
   "source": [
    "optimize!(m)"
   ]
  },
  {
   "cell_type": "markdown",
   "id": "681d9f70-dfe9-48d6-85d5-e85aecba8524",
   "metadata": {},
   "source": [
    "## 4. Results and discussion ##\n",
    "\n",
    "To show our result, we will first write a function using PrettyTable that prints our schedule into tables, then we will discuss if the schedule achived our objective. We will then discuss some obeservation of the results and the limitation of our model.\n",
    "\n",
    "The following function generates the table while checking for conflicts."
   ]
  },
  {
   "cell_type": "code",
   "execution_count": 15,
   "id": "cec25bec-382a-4aad-b60c-066612a5540a",
   "metadata": {},
   "outputs": [],
   "source": [
    "using PrettyTables\n",
    "function print_schedule(x, timeslots, weekdays, subjects, class, instructors)\n",
    "    time = [\"8:00-10:00\", \"10:00-12:00\", \"13:00-15:00\", \"15:00-17:00\"]\n",
    "    header = [\"Time/Day\", \"Mon\", \"Tue\", \"Wed\", \"Thu\", \"Fri\"]\n",
    "    timeslot_size = size(timeslots)[1]\n",
    "    weekday_size = size(weekdays)[1]\n",
    "    for c in class\n",
    "        println(\"Schedule for class \", c)\n",
    "        schedule = fill(\"\", timeslot_size, weekday_size+1)\n",
    "        schedule[:,1]=time\n",
    "        for ts_idx in 1:timeslot_size\n",
    "            for wd_idx in 1:weekday_size\n",
    "                ts, wd = timeslots[ts_idx], weekdays[wd_idx]\n",
    "                for inst in instructors\n",
    "                    for course in subjects\n",
    "                        if JuMP.value.(x[ts,wd,inst,course,c]) > 0\n",
    "                            if schedule[ts_idx,wd_idx+1] == \"\"\n",
    "                                schedule[ts_idx,wd_idx+1]=string(String(course),\"(\",String(inst),\")\")\n",
    "                            else\n",
    "                                # If there are another subject already scheduled in this time slot, we have a conflict.\n",
    "                                schedule[ts_idx,wd_idx+1]=\"!!!CONFLICT!!!\"\n",
    "                            end\n",
    "                        end\n",
    "                    end\n",
    "                end\n",
    "            end\n",
    "        end\n",
    "        pretty_table(\n",
    "            schedule,\n",
    "            header=header,\n",
    "        )\n",
    "    end\n",
    "end;"
   ]
  },
  {
   "cell_type": "markdown",
   "id": "6159f146-be17-4a40-a99c-baaffb9c244e",
   "metadata": {},
   "source": [
    "We can now print our schedule by passing the x variable and input data into the function."
   ]
  },
  {
   "cell_type": "code",
   "execution_count": 16,
   "id": "12a175c9-e231-493b-8660-51eccd3904aa",
   "metadata": {},
   "outputs": [
    {
     "name": "stdout",
     "output_type": "stream",
     "text": [
      "Schedule for class 1\n",
      "┌─────────────┬──────────────────────────┬──────────────────────────┬──────────────────────────┬──────────────────────────┬──────────────────────────┐\n",
      "│\u001b[1m    Time/Day \u001b[0m│\u001b[1m                      Mon \u001b[0m│\u001b[1m                      Tue \u001b[0m│\u001b[1m                      Wed \u001b[0m│\u001b[1m                      Thu \u001b[0m│\u001b[1m                      Fri \u001b[0m│\n",
      "├─────────────┼──────────────────────────┼──────────────────────────┼──────────────────────────┼──────────────────────────┼──────────────────────────┤\n",
      "│  8:00-10:00 │      Biology(MrsInsulin) │      Biology(MrsInsulin) │     Physics(MrEffofecks) │     Physics(MrEffofecks) │ History_Geography(MrMap) │\n",
      "│ 10:00-12:00 │     Physics(MrEffofecks) │ Mathematics(MrEffofecks) │       Philosophy(MrWise) │      Biology(MrsInsulin) │ Mathematics(MrEffofecks) │\n",
      "│ 13:00-15:00 │ History_Geography(MrMap) │                          │        English(MrCheese) │ Mathematics(MrEffofecks) │          Sport(MrMuscle) │\n",
      "│ 15:00-17:00 │ Mathematics(MrEffofecks) │ Mathematics(MrEffofecks) │ Mathematics(MrEffofecks) │         Sport(MrsBiceps) │     Physics(MrEffofecks) │\n",
      "└─────────────┴──────────────────────────┴──────────────────────────┴──────────────────────────┴──────────────────────────┴──────────────────────────┘\n",
      "Schedule for class 2\n",
      "┌─────────────┬──────────────────────────┬──────────────────────────┬──────────────────────────┬──────────────────────────┬──────────────────────────┐\n",
      "│\u001b[1m    Time/Day \u001b[0m│\u001b[1m                      Mon \u001b[0m│\u001b[1m                      Tue \u001b[0m│\u001b[1m                      Wed \u001b[0m│\u001b[1m                      Thu \u001b[0m│\u001b[1m                      Fri \u001b[0m│\n",
      "├─────────────┼──────────────────────────┼──────────────────────────┼──────────────────────────┼──────────────────────────┼──────────────────────────┤\n",
      "│  8:00-10:00 │ Mathematics(MrsDerivate) │ History_Geography(MrMap) │ Mathematics(MrsDerivate) │        English(MrCheese) │       Philosophy(MrWise) │\n",
      "│ 10:00-12:00 │      Biology(MrsInsulin) │     Physics(MrsElectron) │     Physics(MrsElectron) │ Mathematics(MrsDerivate) │      Biology(MrsInsulin) │\n",
      "│ 13:00-15:00 │        English(MrCheese) │      Biology(MrsInsulin) │                          │       Philosophy(MrWise) │         Sport(MrsBiceps) │\n",
      "│ 15:00-17:00 │     Physics(MrsElectron) │ Mathematics(MrsDerivate) │ History_Geography(MrMap) │          Sport(MrMuscle) │ History_Geography(MrMap) │\n",
      "└─────────────┴──────────────────────────┴──────────────────────────┴──────────────────────────┴──────────────────────────┴──────────────────────────┘\n"
     ]
    }
   ],
   "source": [
    "print_schedule(x, timeslots, weekdays, subjects, class, instructors)"
   ]
  },
  {
   "cell_type": "markdown",
   "id": "0ee5da7e-f986-4394-891c-74fd1ab78758",
   "metadata": {},
   "source": [
    "We can observe that we did infact have a valid schedule with no conflicts, and we can see that our model did try to spread the subjects across all five week days as much as possible, the only penalty this schedule incurred is the mathematical course for class 1, since the subject requires six periods, this is unavoidable."
   ]
  },
  {
   "cell_type": "markdown",
   "id": "6bd15f81-86ce-4e5c-bbbe-d465e54a9bda",
   "metadata": {},
   "source": [
    "### 4.1 Limitations ###\n",
    "\n",
    "While our current objective function does seems to work in the context of this input data, we found that when a single subject has large number of required periods, our model does not do a good job at spreading the scheduled periods out. We conclude this is because when all the weekdays already has at least one period of this subject scheduled, the penalty incurred by scheduling another period into a day already having three periods of the same subject is the same by scheduling it to a day with only one period of the same subject."
   ]
  },
  {
   "cell_type": "markdown",
   "id": "6f08cd93-cb8a-4c46-b4d7-bf43366d327b",
   "metadata": {},
   "source": [
    "## 5. Conclusion ##\n",
    "\n",
    "This report explores the common scheduling problem in a academic setting, by creating a mathematical model with constraints reflecting all the possible conflicts in scheduling, we were able to generate valid schedules. We further develop the model with variables that represent the preferences, which enables it to minimize the undesirable traits while still creates valid schedules.\n",
    "\n",
    "In the future, we think having a more complex objective function to tackle more preferences for the schedule is an interesting path to pursue for this model. Already in our generated schedule we can see that because some instructor is available for more subjects, they are more \"overworked\" compare to other instructors, maybe a composite objective function could be a good solution for scheduling with multiple preferences."
   ]
  },
  {
   "cell_type": "code",
   "execution_count": null,
   "id": "7eaa3b9c-1d80-4fb4-aaf1-26332fc0d2f3",
   "metadata": {},
   "outputs": [],
   "source": []
  }
 ],
 "metadata": {
  "kernelspec": {
   "display_name": "Julia 1.10.4",
   "language": "julia",
   "name": "julia-1.10"
  },
  "language_info": {
   "file_extension": ".jl",
   "mimetype": "application/julia",
   "name": "julia",
   "version": "1.10.4"
  }
 },
 "nbformat": 4,
 "nbformat_minor": 5
}
