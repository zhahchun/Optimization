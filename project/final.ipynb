{
 "cells": [
  {
   "cell_type": "markdown",
   "id": "fa9f58f3-8867-4e53-ad7d-1f57168c74bc",
   "metadata": {},
   "source": [
    "### CS/ECE/ISyE 524 &mdash; Introduction to Optimization &mdash; Summer 2024 ###\n",
    "\n",
    "# University Course Timetabling Problem #\n",
    "\n",
    "#### Evelyn Yeh (eyeh6@wisc.edu), Yi-Chun Chen (chen2524@wisc.edu)\n",
    "\n",
    "### Table of Contents\n",
    "\n",
    "1. [Introduction](#1.-Introduction)\n",
    "1. [Mathematical Model](#2.-Mathematical-model)\n",
    "1. [Solution](#3.-Solution)\n",
    "1. [Results and Discussion](#4.-Results-and-discussion)\n",
    "1. [Conclusion](#5.-Conclusion)"
   ]
  },
  {
   "cell_type": "markdown",
   "id": "7d14be58-51e6-4b84-b352-69c4f19b372d",
   "metadata": {
    "jp-MarkdownHeadingCollapsed": true
   },
   "source": [
    "## 1. Introduction\n",
    "\n",
    "This project addresses the university course timetabling problem, a specific scheduling issue where courses must be assigned to timeslots while meeting various constraints. The goal is to develop a model that creates a conflict-free schedule for classes and instructors while accommodating preferences.\n",
    "\n",
    "[Timetabling problems](https://www.degruyter.com/document/doi/10.1515/jisys-2022-0003/html) involve organizing events into timeslots under numerous hard and soft requirements. The objective is to find a schedule that meets all hard constraints and maximizes the satisfaction of soft constraints. These problems appear in various fields, including airport slot scheduling, logistics, shift management, and university timetabling. A notable example is the recent Olympic Games, which required intricate scheduling due to constraints like time, venue, personnel, and transportation.\n",
    "\n",
    "We focus on [university timetabling](https://onlinelibrary.wiley.com/doi/10.1155/2021/6617177), specifically the instructor allocation variation of the University Course Timetabling Problem (UCTP). Our task is to design a weekly schedule for classes at an educational institution. Each class has several subjects with a fixed number of periods per week, and each subject is assigned to an instructor who may teach multiple classes. The challenge is to create a conflict-free schedule that also respects instructor availability and subject-specific timeslot preferences.\n",
    "\n",
    "For our model, the parameters are as follows:\n",
    "* Four timeslots per day\n",
    "* Classes held only on weekdays\n",
    "* Two classes, each with seven subjects\n",
    "* One to two instructors available per subject\n",
    "\n",
    "Additional constraints include:\n",
    "* Instructor availability during specific timeslots\n",
    "* Subject-specific timeslot limitations\n",
    "* Minimizing multiple periods of the same subject in a single day, based on common preferences\n",
    "\n",
    "To validate our model, we generated suitable data. Given the manageable size, we handcrafted the data to meet our requirements. Our approach ensures a comprehensive understanding of the university course timetabling problem and provides a structured method to address it. The assumptions made, such as fixed timeslots and handcrafted data, simplify the problem while still presenting a realistic scenario for testing our model."
   ]
  },
  {
   "cell_type": "markdown",
   "id": "e9b5ff21-134c-4cb8-ae68-f362cc3ab22a",
   "metadata": {},
   "source": [
    "## 2. Mathematical model\n",
    "\n",
    "To build our model, we first consider the simplest case with no additional requirements. Our goal is to assign instructors such that each class has the required number of periods for all subjects while avoiding any scheduling conflicts, such as an instructor being assigned to two classes at the same time or a class being assigned two subjects simultaneously. Additionally, instructors not assigned to a class should not have any subjects scheduled for that class.\n",
    "\n",
    "### Decision Variables\n",
    "- \\$ x_{ijkub} \\$: Binary variable indicating whether subject \\$ u \\$ is scheduled for class \\$ b \\$ in timeslot \\$ i \\$ of weekday \\$ j \\$ with instructor \\$ k \\$.\n",
    "- \\$\\\\textit{penalty}_{jub}\\$: Continuous variable representing the penalty for assigning multiple periods of subject \\$ u \\$ for class \\$ b \\$ on weekday \\$ j \\$.\n",
    "\n",
    "### Parameters\n",
    "- \\$ N \\$: Set of timeslots.\n",
    "- \\$ M \\$: Set of weekdays.\n",
    "- \\$ K \\$: Set of instructors.\n",
    "- \\$ U \\$: Set of subjects.\n",
    "- \\$ B \\$: Set of classes.\n",
    "- \\$ c_{ub} \\$: Number of periods required for subject \\$ u \\$ in class \\$ b \\$.\n",
    "- \\$ t_{kub} \\$: Binary parameter indicating if instructor \\$ k \\$ is responsible for subject \\$ u \\$ in class \\$ b \\$.\n",
    "- \\$ p_{ijub} \\$: Binary parameter indicating if subject \\$ u \\$ can be held in timeslot \\$ i \\$ of weekday \\$ j \\$ for class \\$ b \\$.\n",
    "- \\$ v_{ijkb} \\$: Binary parameter indicating if instructor \\$ k \\$ is available for class \\$ b \\$ in timeslot \\$ i \\$ of weekday \\$ j \\$.\n",
    "\n",
    "### Constraints\n",
    "1. Each timeslot can hold at most one subject for each class and each instructor.\n",
    "2. Each subject must meet its required number of periods.\n",
    "3. Instructors must not be assigned to a class they are not responsible for.\n",
    "4. Subjects must adhere to specific timeslot limitations.\n",
    "5. Instructors must adhere to their availability.\n",
    "6. Penalty for multiple periods of the same subject in a single day.\n",
    "\n",
    "### Objective Function\n",
    "Minimize the sum of penalties to reduce the occurrence of multiple periods of the same subject in a single day.\n",
    "\n",
    "### Model Type\n",
    "This is a Mixed-Integer Programming (MIP) problem due to the binary decision variables \\$ x_{ijkub} \\$ and continuous penalty variables \\$\\\\textit{penalty}_{jub}\\$.\n",
    "\n",
    "### Optimization Problem in Standard Form\n",
    "\n",
    "$$\n",
    "\\begin{alignat*}{2}\n",
    "\\qquad\\qquad\\qquad\\textrm{let}\\quad&\\textrm{N be the set of Time slots, M be the set of Weekdays}\\\\\n",
    "&\\textrm{K be the set of Instructors, U be the set of Subjects}\\\\\n",
    "&\\textrm{B be the set of Classes}\\\\\n",
    "&c_{ub}\\textrm{ as the number of subject }u\\in U\\textrm{ for class }b\\in B\\\\\n",
    "&t_{kub}\\textrm{ as whether instructor }k\\in K\\textrm{ is responsible for subject }u\\in U\\textrm{ for class }b\\in B\\\\\n",
    "&p_{ijub}\\textrm{ as the upper bound of subject }u\\in U\\textrm{ for class }b\\in B\\\\\n",
    "&\\textrm{  to be held on time slot }i\\in N \\textrm{ of weekday }j\\in M\\\\\n",
    "&v_{ijkb}\\textrm{ as whether instructor is available }k\\in K\\textrm{ for class }b\\in B\\\\\n",
    "&\\textrm{  at time slot }i\\in N \\textrm{ of weekday }j\\in M\n",
    "\\end{alignat*}\n",
    "$$\n",
    "$$\n",
    "\\begin{alignat*}{2}\n",
    "\\textrm{minimize:}\\quad & \\sum_{j\\in M, u\\in U, b\\in B} \\textrm{penalty}_{jub} & \\\\\n",
    "\\textrm{subject to:}\\quad& x_{ijkub} \\leq 1 &\\forall i\\in N, j\\in M, k\\in K, b\\in B\\\\\n",
    "& {\\textit{penalty}}_{jub} \\leq |N|*|K| &\\forall j\\in M, u\\in U, b\\in B\\\\\n",
    "& \\sum_{i\\in N, j\\in M, k\\in K}{x_{ijkub}} \\leq c_{ub} &\\forall u\\in U, b\\in B\\\\\n",
    "& \\sum_{i\\in N, j\\in M, k\\in K}{-x_{ijkub}} \\leq -c_{ub} &\\forall u\\in U, b\\in B\\\\\n",
    "& \\sum_{u\\in U, k\\in K}{x_{ijkub}} \\leq 1 &\\forall i\\in N, j\\in M, b\\in B\\\\\n",
    "& \\sum_{u\\in U, b\\in B}{x_{ijkub}} \\leq 1 &\\forall i\\in N, j\\in M, k\\in K\\\\\n",
    "&\\sum_{i\\in N, j\\in M}{x_{ijkub}} \\leq t_{kub}*|N|*|M| &\\forall k\\in K, u\\in U, b\\in B\\\\\n",
    "& \\sum_{k\\in K}x_{ijkub} \\leq p_{ijub} &\\forall i\\in N, j\\in M, u\\in U, b\\in B\\\\\n",
    "& \\sum_{u\\in U}x_{ijkub} \\leq v_{ijkb} &\\forall i\\in N, j\\in M, k\\in K, b\\in B\\\\\n",
    "& \\textrm{\\textit{penalty}}_{jub} \\geq \\sum_{i\\in N, k\\in K}{x_{ijkub}}-1 &\\forall j\\in M, u\\in U, b\\in B\\\\\n",
    "& \\textrm{\\textit{penalty}}_{jub} \\geq 0 &\\forall j\\in M, u\\in U, b\\in B\\\\\n",
    "& x_{ijkub} \\geq 0 &\\forall j\\in M, u\\in U, b\\in B\n",
    "\\end{alignat*}\n",
    "$$\n",
    "\n",
    "This model defines our university course timetabling problem, ensuring a conflict-free schedule while minimizing undesired scheduling patterns."
   ]
  },
  {
   "cell_type": "markdown",
   "id": "82591bd3-0236-4911-b266-aee820df0a0b",
   "metadata": {},
   "source": [
    "## 3. Solution\n",
    "\n",
    "In this section, we will demonstrate how we solve the university course timetabling problem defined previously.\n",
    "\n",
    "### Steps to Solve the Problem\n",
    "* Setup Data Structures: We will first create data structures to efficiently represent the subjects and their requirements.\n",
    "* Data Generation: We will handcraft the data used for testing our model.\n",
    "* Model Building: Using the generated data, we will build our model by parsing the data into corresponding matrix forms.\n",
    "* Constraints Creation: We will implement all the constraints defined in the mathematical model.\n",
    "* Objective Function: We will define the objective function to minimize the penalties.\n",
    "* Optimization: Finally, we will run the optimizer to find the optimal solution."
   ]
  },
  {
   "cell_type": "markdown",
   "id": "0f24e763-4a90-4263-b211-a60c4a910e48",
   "metadata": {},
   "source": [
    "### Data Structures \n",
    "We use the following data structures to represent time slots and subjects:"
   ]
  },
  {
   "cell_type": "code",
   "execution_count": 1,
   "id": "7f2af871-49f8-4c19-9f4d-c115d8fecf08",
   "metadata": {},
   "outputs": [],
   "source": [
    "struct timeslot_info\n",
    "    weekday::Symbol\n",
    "    timeslot::Int\n",
    "end\n",
    "struct subject_info\n",
    "    subject::Symbol\n",
    "    class::Int\n",
    "    required_periods::Int\n",
    "    instructors::Vector{Symbol}\n",
    "    mandated_timeslot::Vector{timeslot_info}\n",
    "end"
   ]
  },
  {
   "cell_type": "markdown",
   "id": "ce6b5520-865e-47c6-8899-2cb1729cc64c",
   "metadata": {},
   "source": [
    "### Handcrafted Data for Testing\n",
    "With the data structures defined, we will now create our handcrafted data using these structures. As mentioned earlier, our dataset will include subject data for two classes, each with seven subjects. Each subject will have one or more instructors available for assignment. Additionally, instructors may be unavailable for certain time slots, and some subjects may be restricted to specific time slots."
   ]
  },
  {
   "cell_type": "code",
   "execution_count": 2,
   "id": "a05571d3-30a3-4f25-b5f4-d6a0ee232405",
   "metadata": {},
   "outputs": [],
   "source": [
    "using JuMP, HiGHS\n",
    "subjects = [:English, :Biology, :History_Geography, :Mathematics, :Physics, :Philosophy, :Sport]\n",
    "instructors = [:MrCheese, :MrsInsulin, :MrMap, :MrEffofecks, :MrsDerivate, :MrsElectron, :MrWise, :MrMuscle, :MrsBiceps]\n",
    "class = [1, 2]\n",
    "weekdays = [:Mon, :Tue, :Wed, :Thu, :Fri]\n",
    "timeslots = [1, 2, 3, 4]\n",
    "subject_data = [\n",
    "    subject_info(:English, 1, 1, [:MrCheese], []),\n",
    "    subject_info(:Biology, 1, 3, [:MrsInsulin], []),\n",
    "    subject_info(:History_Geography, 1, 2, [:MrMap], []),\n",
    "    subject_info(:Mathematics, 1, 6, [:MrEffofecks, :MrsDerivate], []),\n",
    "    subject_info(:Physics, 1, 4, [:MrsElectron, :MrEffofecks], []),\n",
    "    subject_info(:Philosophy, 1, 1, [:MrWise], []),\n",
    "    subject_info(:Sport, 1, 2, [:MrMuscle, :MrsBiceps], [timeslot_info(:Thu, 3), timeslot_info(:Thu, 4), timeslot_info(:Fri, 3), \n",
    "            timeslot_info(:Fri, 4)]),\n",
    "    subject_info(:English, 2, 2, [:MrCheese], []),\n",
    "    subject_info(:Biology, 2, 3, [:MrsInsulin], []),\n",
    "    subject_info(:History_Geography, 2, 3, [:MrMap], []),\n",
    "    subject_info(:Mathematics, 2, 4, [:MrsDerivate], []),\n",
    "    subject_info(:Physics, 2, 3, [:MrsElectron], []),\n",
    "    subject_info(:Philosophy, 2, 2, [:MrWise], []),\n",
    "    subject_info(:Sport, 2, 2, [:MrMuscle, :MrsBiceps], [timeslot_info(:Thu, 3), timeslot_info(:Thu, 4), timeslot_info(:Fri, 3), \n",
    "            timeslot_info(:Fri, 4)]),\n",
    "]\n",
    "unavailable_instructor = [(:MrEffofecks, timeslot_info(:Mon, 1)), (:MrEffofecks, timeslot_info(:Mon, 3)),\n",
    "                          (:MrsInsulin, timeslot_info(:Wed, 1)), (:MrsInsulin, timeslot_info(:Wed, 2)),\n",
    "                          (:MrsInsulin, timeslot_info(:Wed, 3)), (:MrsInsulin, timeslot_info(:Wed, 4))];"
   ]
  },
  {
   "cell_type": "markdown",
   "id": "8a071300-227d-4910-8d5b-97cb111dfbee",
   "metadata": {},
   "source": [
    "Now that we have added the data in a human-readable format, we need to convert it into matrix form for our model. We require a total of four matrices, which include:\n",
    "\n",
    "1. The required period count for each subject in each class.\n",
    "2. The maximum number of periods each instructor can be assigned to each class for each subject.\n",
    "3. The maximum number of periods each subject can be assigned to each class for each time slot.\n",
    "4. The maximum number of periods each instructor can be assigned to each time slot."
   ]
  },
  {
   "cell_type": "code",
   "execution_count": 3,
   "id": "8ec682fc-0a3c-44fb-b9c2-584149c00d76",
   "metadata": {},
   "outputs": [],
   "source": [
    "timeslot_size = size(timeslots)[1]\n",
    "weekday_size = size(weekdays)[1]\n",
    "subject_size = size(subjects)[1]\n",
    "class_size = size(class)[1]\n",
    "instructor_size = size(instructors)[1]\n",
    "subject_count = Containers.DenseAxisArray(fill(0, (class_size, subject_size)), class, subjects)\n",
    "# This limit is used to unsure no instructor is assigned to classes that they were not responsible for.\n",
    "instructor_limit = Containers.DenseAxisArray(fill(0, (class_size, subject_size, instructor_size)), class, subjects, instructors)\n",
    "subject_availability = Containers.DenseAxisArray(fill(0, (class_size, subject_size, weekday_size, timeslot_size)), class, subjects, weekdays, \n",
    "    timeslots)\n",
    "instructor_availability = Containers.DenseAxisArray(fill(1, (class_size, instructor_size, weekday_size, timeslot_size)), class, instructors, \n",
    "    weekdays, timeslots)\n",
    "for sd in subject_data\n",
    "    subject_count[sd.class, sd.subject] = sd.required_periods\n",
    "    for inst in sd.instructors\n",
    "        # Set the limit to max, this instructor is now open to be assigned to any number of subjects for this subject of this class.\n",
    "        instructor_limit[sd.class, sd.subject, inst] = weekday_size*timeslot_size\n",
    "    end\n",
    "    if isempty(sd.mandated_timeslot)\n",
    "    # If there are no mandated timeslot, all timeslots becomes available.\n",
    "        for wd in weekdays\n",
    "            for ts in timeslots\n",
    "                subject_availability[sd.class, sd.subject, wd, ts] = 1\n",
    "            end\n",
    "        end\n",
    "    else\n",
    "        for ts_info in sd.mandated_timeslot\n",
    "            subject_availability[sd.class, sd.subject, ts_info.weekday, ts_info.timeslot] = 1\n",
    "        end\n",
    "    end\n",
    "end\n",
    "\n",
    "for data in unavailable_instructor\n",
    "    inst, ts_data = data[1], data[2]\n",
    "    for c in class\n",
    "        instructor_availability[c, inst, ts_data.weekday, ts_data.timeslot] = 0\n",
    "    end\n",
    "end"
   ]
  },
  {
   "cell_type": "markdown",
   "id": "555bbad5-8657-431d-a5e3-132bfaaa510d",
   "metadata": {},
   "source": [
    "### Building the Model & Creating Constraints\n",
    "With the data ready, we can begin building our model for this problem. First, we need to establish all the constraints, excluding those for the objective function. Setting these constraints ensures that the generated schedule will always be valid."
   ]
  },
  {
   "cell_type": "code",
   "execution_count": 4,
   "id": "05e312df-5d98-4013-ae1a-da42fb2d1db5",
   "metadata": {},
   "outputs": [],
   "source": [
    "m = Model(HiGHS.Optimizer)\n",
    "set_silent(m)\n",
    "@variable(m, x[timeslots, weekdays, instructors, subjects, class], Bin)\n",
    "for subject in subjects\n",
    "    for c in class\n",
    "        # Constraint to ensure all the subjects for the classes have all the requried period scheduled.\n",
    "        @constraint(m, sum(x[ts, wd, inst, subject, c] for ts in timeslots, wd in weekdays, inst in instructors) == subject_count[c, subject])\n",
    "    end\n",
    "end\n",
    "for ts in timeslots\n",
    "    for wd in weekdays\n",
    "        for c in class\n",
    "            # Constraint to ensure that for each class, no conflict arise from having multiple subjects scheduled at a single time slot.\n",
    "            @constraint(m, sum(x[ts, wd, inst, subject, c] for inst in instructors, subject in subjects) <= 1)\n",
    "        end\n",
    "    end\n",
    "end\n",
    "for ts in timeslots\n",
    "    for wd in weekdays\n",
    "        for inst in instructors\n",
    "            # Constraint to ensure that for each instructor, no conflict arise from having multiple subjects scheduled for a single time slot.\n",
    "            @constraint(m, sum(x[ts, wd, inst, subject, c] for subject in subjects, c in class) <= 1)\n",
    "        end\n",
    "    end\n",
    "end\n",
    "for c in class\n",
    "    for subject in subjects\n",
    "        for inst in instructors\n",
    "            # Constraint to prevent intructors from being assigned to classes that are not their responsibility.\n",
    "            # Classes that they are not responsible for will always have the limit set to zero, and classes\n",
    "            # they are responsible for will have the limit set to the total amount of time slots available each week.\n",
    "            @constraint(m, sum(x[ts, wd, inst, subject, c] for ts in timeslots, wd in weekdays) <= instructor_limit[c, subject, inst])\n",
    "        end\n",
    "    end\n",
    "end\n",
    "for c in class\n",
    "    for subject in subjects\n",
    "        for wd in weekdays\n",
    "            for ts in timeslots\n",
    "                # New constraint for the mandated timeslots, if there are time slot(s) mandated for this course, availablility for\n",
    "                # all other time slots will be set to zero.\n",
    "                # While not in the scope of our problem, this could also be used to blacklist time slots.\n",
    "                @constraint(m, sum(x[ts, wd, inst, subject, c] for inst in instructors) <= subject_availability[c, subject, wd, ts])\n",
    "            end\n",
    "        end\n",
    "    end\n",
    "end\n",
    "for c in class\n",
    "    for inst in instructors\n",
    "        for wd in weekdays\n",
    "            for ts in timeslots\n",
    "                # Constraint for instructor availability, if the instructor is unavailable for certain time slots, this ensures\n",
    "                # these time slots have no subjects scheduled for the instructor.\n",
    "                @constraint(m, sum(x[ts, wd, inst, subject, c] for subject in subjects) <= instructor_availability[c, inst, wd, ts])\n",
    "            end\n",
    "        end\n",
    "    end\n",
    "end"
   ]
  },
  {
   "cell_type": "markdown",
   "id": "e221fe10-af79-47d3-af5e-4eaece7c0271",
   "metadata": {},
   "source": [
    "### Defining the Objective Function\n",
    "With the hard constraints in place to ensure valid schedules, we can now move on to the objective function. Due to the difficulties associated with using max functions directly, we will introduce a penalty variable. By setting up appropriate constraints for this variable, it will serve as a proxy for our calculations to minimize the scheduling conflicts."
   ]
  },
  {
   "cell_type": "code",
   "execution_count": 5,
   "id": "7d3819b0-bd0f-418c-87a5-50af1fa67c95",
   "metadata": {},
   "outputs": [],
   "source": [
    "@variable(m, penalty[weekdays, subjects, class])\n",
    "for wd in weekdays\n",
    "    for subject in subjects\n",
    "        for c in class\n",
    "            A, B = sum(x[ts, wd, inst, subject, c] for ts in timeslots, inst in instructors)-1, 0\n",
    "            @constraint(m, penalty[wd, subject, c] >= A)\n",
    "            @constraint(m, penalty[wd, subject, c] >= B)\n",
    "        end\n",
    "    end\n",
    "end\n",
    "@objective(m, Min, sum(penalty[wd, subject, c] for wd in weekdays, subject in subjects, c in class));"
   ]
  },
  {
   "cell_type": "markdown",
   "id": "b49085df-b222-48a7-a6f4-f4c8e81e7d66",
   "metadata": {},
   "source": [
    "### Running the Optimizer\n",
    "With everything in place, we can now run the optimizer to generate a schedule for each class."
   ]
  },
  {
   "cell_type": "code",
   "execution_count": 6,
   "id": "984e1986-d7f7-45d1-bd41-321b60350b82",
   "metadata": {},
   "outputs": [],
   "source": [
    "optimize!(m)"
   ]
  },
  {
   "cell_type": "markdown",
   "id": "681d9f70-dfe9-48d6-85d5-e85aecba8524",
   "metadata": {},
   "source": [
    "## 4. Results and discussion ##\n",
    "\n",
    "To present our results, we first created a function using PrettyTable to print the schedules in table format. We then analyzed whether the schedules met our objectives, followed by discussing observations and limitations of our model.\n",
    "\n",
    "The following function generates the table while checking for conflicts:"
   ]
  },
  {
   "cell_type": "code",
   "execution_count": 7,
   "id": "cec25bec-382a-4aad-b60c-066612a5540a",
   "metadata": {},
   "outputs": [],
   "source": [
    "using PrettyTables\n",
    "function print_schedule(x, timeslots, weekdays, subjects, class, instructors)\n",
    "    time = [\"8:00-10:00\", \"10:00-12:00\", \"13:00-15:00\", \"15:00-17:00\"]\n",
    "    header = [\"Time/Day\", \"Mon\", \"Tue\", \"Wed\", \"Thu\", \"Fri\"]\n",
    "    timeslot_size = size(timeslots)[1]\n",
    "    weekday_size = size(weekdays)[1]\n",
    "    for c in class\n",
    "        println(\"Schedule for class \", c)\n",
    "        schedule = fill(\"\", timeslot_size, weekday_size+1)\n",
    "        schedule[:,1]=time\n",
    "        for ts_idx in 1:timeslot_size\n",
    "            for wd_idx in 1:weekday_size\n",
    "                ts, wd = timeslots[ts_idx], weekdays[wd_idx]\n",
    "                for inst in instructors\n",
    "                    for course in subjects\n",
    "                        if JuMP.value.(x[ts,wd,inst,course,c]) > 0\n",
    "                            if schedule[ts_idx,wd_idx+1] == \"\"\n",
    "                                schedule[ts_idx,wd_idx+1]=string(String(course),\"(\",String(inst),\")\")\n",
    "                            else\n",
    "                                # If there are another subject already scheduled in this time slot, we have a conflict.\n",
    "                                schedule[ts_idx,wd_idx+1]=\"!!!CONFLICT!!!\"\n",
    "                            end\n",
    "                        end\n",
    "                    end\n",
    "                end\n",
    "            end\n",
    "        end\n",
    "        pretty_table(\n",
    "            schedule,\n",
    "            header=header,\n",
    "        )\n",
    "    end\n",
    "end;"
   ]
  },
  {
   "cell_type": "markdown",
   "id": "6159f146-be17-4a40-a99c-baaffb9c244e",
   "metadata": {},
   "source": [
    "We can now print our schedule by passing the `x` variable and input data into the display function."
   ]
  },
  {
   "cell_type": "code",
   "execution_count": 8,
   "id": "12a175c9-e231-493b-8660-51eccd3904aa",
   "metadata": {},
   "outputs": [
    {
     "name": "stdout",
     "output_type": "stream",
     "text": [
      "Schedule for class 1\n",
      "┌─────────────┬──────────────────────────┬──────────────────────────┬──────────────────────────┬──────────────────────────┬──────────────────────────┐\n",
      "│\u001b[1m    Time/Day \u001b[0m│\u001b[1m                      Mon \u001b[0m│\u001b[1m                      Tue \u001b[0m│\u001b[1m                      Wed \u001b[0m│\u001b[1m                      Thu \u001b[0m│\u001b[1m                      Fri \u001b[0m│\n",
      "├─────────────┼──────────────────────────┼──────────────────────────┼──────────────────────────┼──────────────────────────┼──────────────────────────┤\n",
      "│  8:00-10:00 │      Biology(MrsInsulin) │      Biology(MrsInsulin) │     Physics(MrEffofecks) │     Physics(MrEffofecks) │ History_Geography(MrMap) │\n",
      "│ 10:00-12:00 │     Physics(MrEffofecks) │ Mathematics(MrEffofecks) │       Philosophy(MrWise) │      Biology(MrsInsulin) │ Mathematics(MrEffofecks) │\n",
      "│ 13:00-15:00 │ History_Geography(MrMap) │                          │        English(MrCheese) │ Mathematics(MrEffofecks) │          Sport(MrMuscle) │\n",
      "│ 15:00-17:00 │ Mathematics(MrEffofecks) │ Mathematics(MrEffofecks) │ Mathematics(MrEffofecks) │         Sport(MrsBiceps) │     Physics(MrEffofecks) │\n",
      "└─────────────┴──────────────────────────┴──────────────────────────┴──────────────────────────┴──────────────────────────┴──────────────────────────┘\n",
      "Schedule for class 2\n",
      "┌─────────────┬──────────────────────────┬──────────────────────────┬──────────────────────────┬──────────────────────────┬──────────────────────────┐\n",
      "│\u001b[1m    Time/Day \u001b[0m│\u001b[1m                      Mon \u001b[0m│\u001b[1m                      Tue \u001b[0m│\u001b[1m                      Wed \u001b[0m│\u001b[1m                      Thu \u001b[0m│\u001b[1m                      Fri \u001b[0m│\n",
      "├─────────────┼──────────────────────────┼──────────────────────────┼──────────────────────────┼──────────────────────────┼──────────────────────────┤\n",
      "│  8:00-10:00 │ Mathematics(MrsDerivate) │ History_Geography(MrMap) │ Mathematics(MrsDerivate) │        English(MrCheese) │       Philosophy(MrWise) │\n",
      "│ 10:00-12:00 │      Biology(MrsInsulin) │     Physics(MrsElectron) │     Physics(MrsElectron) │ Mathematics(MrsDerivate) │      Biology(MrsInsulin) │\n",
      "│ 13:00-15:00 │        English(MrCheese) │      Biology(MrsInsulin) │                          │       Philosophy(MrWise) │         Sport(MrsBiceps) │\n",
      "│ 15:00-17:00 │     Physics(MrsElectron) │ Mathematics(MrsDerivate) │ History_Geography(MrMap) │          Sport(MrMuscle) │ History_Geography(MrMap) │\n",
      "└─────────────┴──────────────────────────┴──────────────────────────┴──────────────────────────┴──────────────────────────┴──────────────────────────┘\n"
     ]
    }
   ],
   "source": [
    "print_schedule(x, timeslots, weekdays, subjects, class, instructors)"
   ]
  },
  {
   "cell_type": "markdown",
   "id": "0ee5da7e-f986-4394-891c-74fd1ab78758",
   "metadata": {},
   "source": [
    "The generated schedules were free of conflicts, successfully spreading subjects across all five weekdays. The only penalty incurred was for the mathematics course for Class 1, which required six periods, making it unavoidable to have multiple periods on the same day.\n",
    "\n",
    "Our model effectively minimized scheduling conflicts and distributed subjects evenly across the week, achieving the main objective. The penalty for the mathematics course in Class 1 demonstrates the model's prioritization of spreading periods as much as possible given the constraints."
   ]
  },
  {
   "cell_type": "markdown",
   "id": "6bd15f81-86ce-4e5c-bbbe-d465e54a9bda",
   "metadata": {},
   "source": [
    "### 4.1 Limitations\n",
    "\n",
    "While our current objective function works well with the given input data, it struggles with subjects requiring a large number of periods. The model does not adequately spread out these periods across the week. This issue arises because once every weekday has at least one period of a subject, the penalty for adding another period to a day with multiple periods is the same as adding it to a day with fewer periods.\n",
    "\n",
    "### 4.2 Sensitivity to Assumptions\n",
    "The results are sensitive to our assumptions, particularly the number of periods required and the constraints on instructor availability. Adjusting these parameters can significantly impact the schedule and its optimality."
   ]
  },
  {
   "cell_type": "markdown",
   "id": "6f08cd93-cb8a-4c46-b4d7-bf43366d327b",
   "metadata": {},
   "source": [
    "## 5. Conclusion ##\n",
    "\n",
    "\r\n",
    "This report addresses the common scheduling problem in an academic setting by developing a mathematical model with constraints that reflect all potential scheduling conflicts. By incorporating these constraints, we successfully generated valid schedules. Additionally, we enhanced the model with variables representing preferences, allowing it to minimize undesirable traits while maintaining valid schedules.\r\n",
    "\r\n",
    "### Findings\r\n",
    "- **Validity**: The model effectively generated conflict-free schedules.\r\n",
    "- **Preference Handling**: By incorporating penalty variables, the model minimized scheduling conflicts and spread subjects evenly across the week.\r\n",
    "\r\n",
    "### Future Directions\r\n",
    "A promising future direction would be to develop a more complex objective function to accommodate a broader range of scheduling preferences. For instance, in our generated schedule, some instructors are \"overworked\" because they are available for more subjects. A composite objective function could balance workload distribution among instructors and address multiple preferences simultaneously. This improvement would make the scheduling model more robust and adaptable to various academic settings."
   ]
  },
  {
   "cell_type": "code",
   "execution_count": null,
   "id": "7eaa3b9c-1d80-4fb4-aaf1-26332fc0d2f3",
   "metadata": {},
   "outputs": [],
   "source": []
  }
 ],
 "metadata": {
  "kernelspec": {
   "display_name": "Julia 1.10.4",
   "language": "julia",
   "name": "julia-1.10"
  },
  "language_info": {
   "file_extension": ".jl",
   "mimetype": "application/julia",
   "name": "julia",
   "version": "1.10.4"
  }
 },
 "nbformat": 4,
 "nbformat_minor": 5
}
