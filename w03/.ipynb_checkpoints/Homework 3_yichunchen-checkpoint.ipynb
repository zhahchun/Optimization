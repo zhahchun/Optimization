{
 "cells": [
  {
   "cell_type": "markdown",
   "id": "d04799e5-971f-4748-98b0-f1482be83a36",
   "metadata": {},
   "source": [
    "## Problem 1 - Duality Practice\n",
    "\n",
    "\n",
    "Consider the following primal linear program:\n",
    "\n",
    "\\begin{alignat*}{5}\n",
    "\\max \\ & z = & 7 x_1 & - & 3 x_2 & + & 2 x_3 &+& x_4 &\\\\\n",
    "\\text{s.t. } & & x_1 & - &   x_2 &   &       & &    & = 5\\\\\n",
    "             & &     &   & 4 x_2 & + & 6 x_3 & &    & \\leq 9\\\\\n",
    "             & & x_1&   &       & - & x_3   &-& 2 x_4 &\\leq 4\\\\\n",
    "             & &  x_1& \\geq 0, &x_2 &\\text{ Free },& x_3 &\\geq 0,& x_4 &\\leq 0\n",
    "\\end{alignat*}\n",
    "\n",
    "\n",
    "Write the dual of this linear program."
   ]
  },
  {
   "cell_type": "markdown",
   "id": "fa5ccc8c-2006-4ead-894b-41423300732c",
   "metadata": {},
   "source": [
    "**Answer:**\n",
    "\\begin{alignat*}{5}\n",
    "\\min \\ & d = & 5 y_1 & + & 9 y_2 & + & 4 y_3 &\\\\\n",
    "\\text{s.t. } & &   & y_1 &   &       &   & y_3 &\\geq 7\\\\\n",
    "             & & - & y_1 & + &   & 4 y_2 &   &      &= -3\\\\\n",
    "             & &   &     &   &   & 6 y_2 & - & y_3  &\\geq 2\\\\\n",
    "             & &   &     &   &   &       & - & 2 y_3&\\leq 1\\\\\n",
    "             & & y_1 &\\text{ Free }\\\\\n",
    "             & & y_2 &\\geq 0\\\\\n",
    "             & & y_3 &\\geq 0\n",
    "\\end{alignat*}"
   ]
  },
  {
   "cell_type": "code",
   "execution_count": null,
   "id": "bd7724b7-740b-426a-91ca-1a832b66aa70",
   "metadata": {},
   "outputs": [],
   "source": []
  },
  {
   "cell_type": "code",
   "execution_count": null,
   "id": "fc10b595-4a9d-49ae-a252-5195c9402b65",
   "metadata": {},
   "outputs": [],
   "source": []
  },
  {
   "cell_type": "code",
   "execution_count": null,
   "id": "87c45fbb-dcdf-427d-aa3b-18295d7291a2",
   "metadata": {},
   "outputs": [],
   "source": []
  },
  {
   "cell_type": "code",
   "execution_count": null,
   "id": "56b86577-b512-4d58-9dd1-56aae47892f7",
   "metadata": {},
   "outputs": [],
   "source": []
  },
  {
   "cell_type": "code",
   "execution_count": null,
   "id": "10cdbfa9-991e-461a-b385-ca743006998f",
   "metadata": {},
   "outputs": [],
   "source": []
  },
  {
   "cell_type": "code",
   "execution_count": null,
   "id": "ffa1d4df-aa2f-41f0-8e89-e7fb1794f253",
   "metadata": {},
   "outputs": [],
   "source": []
  }
 ],
 "metadata": {
  "kernelspec": {
   "display_name": "Julia 1.10.4",
   "language": "julia",
   "name": "julia-1.10"
  },
  "language_info": {
   "file_extension": ".jl",
   "mimetype": "application/julia",
   "name": "julia",
   "version": "1.10.4"
  }
 },
 "nbformat": 4,
 "nbformat_minor": 5
}
