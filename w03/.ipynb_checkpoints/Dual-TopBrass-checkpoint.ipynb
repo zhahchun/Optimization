{
 "cells": [
  {
   "cell_type": "markdown",
   "metadata": {},
   "source": [
    "# Duality in Top Brass \n",
    "\n",
    "Top Brass Trophy Company makes large championship trophies for youth athletic leagues. At the moment, they are planning production for fall sports: football and soccer. Each football trophy has a wood base, an engraved plaque, a large brass football on top, and returns \\\\$12 in profit. Soccer trophies are similar except that a brass soccer ball is on top, and the unit profit is only \\\\$9. Since the football has an asymmetric shape, its base requires 4 board feet of wood; the soccer base requires only 2 board feet. At the moment there are 1000 brass footballs in stock, 1500 soccer balls, 1750 plaques, and 4800 board feet of wood. What trophies should be produced from these supplies to maximize total profit assuming that all that are made can be sold?\n"
   ]
  },
  {
   "cell_type": "markdown",
   "metadata": {},
   "source": [
    "## Original (Primal) Top Brass"
   ]
  },
  {
   "cell_type": "code",
   "execution_count": 1,
   "metadata": {},
   "outputs": [
    {
     "name": "stdout",
     "output_type": "stream",
     "text": [
      "Max 12 f + 9 s\n",
      "Subject to\n",
      " Cwood : 4 f + 2 s <= 4800.0\n",
      " Cplaques : f + s <= 1750.0\n",
      " Cfballs : f <= 1000.0\n",
      " Csballs : s <= 1500.0\n",
      " f >= 0.0\n",
      " s >= 0.0\n",
      "\n",
      "Build 650.0 football trophies.\n",
      "Build 1100.0 soccer trophies.\n",
      "Total profit will be $17700.0\n",
      "Coin0506I Presolve 2 (-2) rows, 2 (0) columns and 4 (-2) elements\n",
      "Clp0006I 0  Obj -0 Dual inf 20.999998 (2)\n",
      "Clp0006I 2  Obj 17700\n",
      "Clp0000I Optimal - objective value 17700\n",
      "Coin0511I After Postsolve, objective 17700, infeasibilities - dual 0 (0), primal 0 (0)\n",
      "Clp0032I Optimal objective 17700 - 2 iterations time 0.012, Presolve 0.00\n"
     ]
    }
   ],
   "source": [
    "using JuMP, Clp\n",
    "\n",
    "m = Model(Clp.Optimizer)\n",
    "\n",
    "@variable(m, f >= 0)                        # number of football trophies\n",
    "@variable(m, s >= 0)                        # number of soccer trophies\n",
    "@constraint(m, Cwood,   4*f + 2*s <= 4800)  # total board feet of wood\n",
    "@constraint(m, Cplaques,  f + s <= 1750)    # total number of plaques\n",
    "@constraint(m, Cfballs,       f <= 1000)    # total number of brass footballs\n",
    "@constraint(m, Csballs,       s <= 1500)    # total number of brass soccer balls\n",
    "@objective(m, Max, 12*f + 9*s)              # maximize profit\n",
    "\n",
    "# solve this instance of the Top Brass problem\n",
    "optimize!(m)\n",
    "\n",
    "# print out the full model and solution\n",
    "println(m)\n",
    "\n",
    "println(\"Build \", value(f), \" football trophies.\")\n",
    "println(\"Build \", value(s), \" soccer trophies.\")\n",
    "println(\"Total profit will be \\$\", objective_value(m))"
   ]
  },
  {
   "cell_type": "markdown",
   "metadata": {},
   "source": [
    "## Dual of Top Brass\n",
    "\n",
    "Now let's implement and solve the dual of Top Brass:"
   ]
  },
  {
   "cell_type": "code",
   "execution_count": 2,
   "metadata": {},
   "outputs": [
    {
     "name": "stdout",
     "output_type": "stream",
     "text": [
      "Min 4800 λ[1] + 1750 λ[2] + 1000 λ[3] + 1500 λ[4]\n",
      "Subject to\n",
      " 4 λ[1] + λ[2] + λ[3] >= 12.0\n",
      " 2 λ[1] + λ[2] + λ[4] >= 9.0\n",
      " λ[1] >= 0.0\n",
      " λ[2] >= 0.0\n",
      " λ[3] >= 0.0\n",
      " λ[4] >= 0.0\n",
      "\n",
      "dual variables are: [1.5, 6.0, 0.0, 0.0]\n",
      "Optimal objective is: 17700.0\n",
      "Coin0506I Presolve 2 (0) rows, 4 (0) columns and 6 (0) elements\n",
      "Clp0006I 0  Obj 0 Primal inf 7.4999998 (2)\n",
      "Clp0006I 3  Obj 17700\n",
      "Clp0000I Optimal - objective value 17700\n",
      "Clp0032I Optimal objective 17700 - 3 iterations time 0.002\n"
     ]
    }
   ],
   "source": [
    "using JuMP, Clp\n",
    "\n",
    "m = Model(Clp.Optimizer)\n",
    "@variable(m, λ[1:4] >= 0) # variables for each primal constraint\n",
    "\n",
    "# constraints ensuring the correct relationship with each primal variable\n",
    "# to guarantee an upper bound \n",
    "@constraint(m, 4λ[1] + λ[2] + λ[3] >= 12)\n",
    "@constraint(m, 2λ[1] + λ[2] + λ[4] >= 9)\n",
    "\n",
    "# objective is to minimize the upper bound on the primal solution\n",
    "@objective(m, Min, 4800*λ[1] + 1750*λ[2] + 1000*λ[3] + 1500*λ[4])\n",
    "\n",
    "# solve this instance of the Top Brass dual\n",
    "optimize!(m)\n",
    "\n",
    "# print the dual model and solution\n",
    "println(m)\n",
    "\n",
    "println(\"dual variables are: \", value.(λ))\n",
    "println(\"Optimal objective is: \", objective_value(m))"
   ]
  },
  {
   "cell_type": "code",
   "execution_count": null,
   "metadata": {},
   "outputs": [],
   "source": []
  }
 ],
 "metadata": {
  "kernelspec": {
   "display_name": "Julia 1.7.3",
   "language": "julia",
   "name": "julia-1.7"
  },
  "language_info": {
   "file_extension": ".jl",
   "mimetype": "application/julia",
   "name": "julia",
   "version": "1.7.3"
  }
 },
 "nbformat": 4,
 "nbformat_minor": 4
}
