{
 "cells": [
  {
   "cell_type": "markdown",
   "metadata": {},
   "source": [
    "# Assigning Jobs to Machines - The Generalized Assignment Problem\n",
    "\n",
    "In a GAP model, we have a set of “machines” M = {1,2,…,m} and a set of “jobs” N = {1,2,…,n} that must be assigned to machines. Each machine i has a capacity $b_i$ units of work. Each job j requires $a_{ij}$ units of work to be completed if it is scheduled on machine i. All jobs must be assigned to exactly one machine. There is a fixed cost $h_i$ of using machine i."
   ]
  },
  {
   "cell_type": "code",
   "execution_count": 1,
   "metadata": {},
   "outputs": [
    {
     "name": "stdout",
     "output_type": "stream",
     "text": [
      "Academic license - for non-commercial use only - expires 2022-06-27\n",
      "Time for case 1 \n",
      " 42.724346 seconds (6.29 M allocations: 386.081 MiB, 0.47% gc time, 10.93% compilation time)\n",
      "Academic license - for non-commercial use only - expires 2022-06-27\n",
      "Time for case 2 \n",
      " 27.988632 seconds (53.33 k allocations: 5.999 MiB)\n",
      "Academic license - for non-commercial use only - expires 2022-06-27\n",
      "Time for case 3 \n",
      " 13.647918 seconds (51.05 k allocations: 5.929 MiB)\n"
     ]
    }
   ],
   "source": [
    "using JuMP, Gurobi\n",
    "\n",
    "M = 1:50 # number of machines\n",
    "N = 1:100 # number of jobs\n",
    "\n",
    "# for convenience -- count jobs and machines\n",
    "m = length(M)\n",
    "n = length(N)\n",
    "\n",
    "# initilize the work capacity and fixed cost of each machine as 0\n",
    "b = zeros(m)\n",
    "h = zeros(m)\n",
    "\n",
    "for i in 1:m\n",
    "    # randomly generate values between 5 and 25 units of capacity on each machine\n",
    "    b[i] = round(20*rand() + 5,digits=2)\n",
    "    # randomly generate values between 5 and 15 for fixed cost of each machine\n",
    "    h[i] = round(10*rand() + 5,digits=2)\n",
    "end\n",
    "\n",
    "# initialize the work required and variable cost of each job on each machine as 0\n",
    "a = zeros(m,n)\n",
    "c = zeros(m,n)\n",
    "for i in 1:m\n",
    "    for j in 1:n\n",
    "        # randomly generate values between 0 and 10 units of work for each job on each machine\n",
    "        a[i,j] = round(10*rand(),digits=2)\n",
    "        # randomly generate values between 0 and 5 for variable cost of each job on each machine\n",
    "        c[i,j] = round(5*rand(),digits=2)\n",
    "    end\n",
    "end\n",
    "\n",
    "# cases represent 3 ways of modeling the logic of only assigning jobs to machines we use\n",
    "# case 1 is most constraints; case 2 uses few constraints; case 3 uses most constraints and \"clever\" bounds\n",
    "cases = [:1,:2,:3]\n",
    "for case in cases\n",
    "    mod = Model(Gurobi.Optimizer)\n",
    "    set_optimizer_attribute(mod, \"OutputFlag\", 0)\n",
    "\n",
    "    @variable(mod, x[1:m, 1:n], Bin) # binary variables assign jobs to machines\n",
    "    @variable(mod, z[1:n], Bin) # binary variables tell us which machines to use\n",
    "\n",
    "    # objective is to minimize cost\n",
    "    @objective(mod, Min, sum(c[i,j]*x[i,j] for i in 1:m for j in 1:n)\n",
    "                + sum(h[i]*z[i] for i in 1:m))\n",
    "        \n",
    "    # use at most b[i] units of capacity on each machine i\n",
    "    @constraint(mod, capacity[i in 1:m], sum(a[i,j]*x[i,j] for j in 1:n) <= b[i])\n",
    "    @constraint(mod, jobassign[i in 1:n], sum(x[j,i] for j in 1:m) == 1)\n",
    "    \n",
    "    if case == :1\n",
    "        # Fixed cost logic: option 1\n",
    "        @constraint(mod, logic[i in 1:m, j in 1:n], x[i,j] <= 1*z[i])\n",
    "    elseif case == :2\n",
    "        # Fixed cost logic: option 2\n",
    "        @constraint(mod, logic[i in 1:m], sum(x[i,j] for j in 1:n) <= n*z[i])\n",
    "    elseif case == :3\n",
    "        # Fixed cost logic: option 3\n",
    "        @constraint(mod, logic[i in 1:m], sum(a[i,j]*x[i,j] for j in 1:n) <= b[i]*z[i])\n",
    "    end\n",
    "    println(\"Time for case \", case, \" \")\n",
    "    @time(optimize!(mod))\n",
    "end"
   ]
  },
  {
   "cell_type": "markdown",
   "metadata": {},
   "source": [
    "It is pretty clear that the third case solves the fastest. This becomes even more obvious for larger instances. Why does this happen? It's all about the convex hull! Because of how we make use of other information in the model in case 3, the LP relaxation of case 3 is the closest to the convex hull of the IP feasible set. The closer to the convex hull we get, the better. The solver works by solving a relaxed version of the model and \"closing the gap\" between the LP solution and the optimal IP solution. Closer to convex hull = smaller gap to close."
   ]
  },
  {
   "cell_type": "code",
   "execution_count": null,
   "metadata": {},
   "outputs": [],
   "source": []
  }
 ],
 "metadata": {
  "kernelspec": {
   "display_name": "Julia 1.7.3",
   "language": "julia",
   "name": "julia-1.7"
  },
  "language_info": {
   "file_extension": ".jl",
   "mimetype": "application/julia",
   "name": "julia",
   "version": "1.7.3"
  }
 },
 "nbformat": 4,
 "nbformat_minor": 4
}
