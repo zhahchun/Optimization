{
 "cells": [
  {
   "cell_type": "markdown",
   "metadata": {},
   "source": [
    "# A Column Generation Example -- Metal Cutting\n",
    "\n",
    "Suppose we stock standard-length solid metal blocks that are used to craft android robots. The stock length is 19 meters.\n",
    "\n",
    "We have an order for\n",
    "\n",
    "* 12 lengths of 4m\n",
    "* 15 lengths of 5m\n",
    "* 22 lengths of 6m\n",
    " \n",
    "How should we cut our standard length metal blocks to meet the demand and minimize the number of standard lengths we need to use?\n"
   ]
  },
  {
   "cell_type": "markdown",
   "metadata": {},
   "source": [
    "## First Modeling Approach"
   ]
  },
  {
   "cell_type": "code",
   "execution_count": 1,
   "metadata": {},
   "outputs": [
    {
     "name": "stdout",
     "output_type": "stream",
     "text": [
      "Academic license - for non-commercial use only - expires 2022-06-27\r\n",
      "  4.744992 seconds (6.55 M allocations: 396.045 MiB, 3.57% gc time, 80.09% compilation time)\n"
     ]
    }
   ],
   "source": [
    "using JuMP, Gurobi\n",
    "\n",
    "scale = 10 # factor to increase/decrease size of problem\n",
    "\n",
    "N = 16*scale  # upper bound on number of pipes needed\n",
    "\n",
    "m = Model(Gurobi.Optimizer)\n",
    "set_optimizer_attribute(m,\"OutputFlag\",0)\n",
    "\n",
    "@variable(m, x[1:3,1:N] >= 0, Int) # times to cut each pattern 1,2,3 from given block 1-N\n",
    "@variable(m, z[1:N], Bin) # use block 1-N\n",
    "for j = 1:N\n",
    "    @constraint(m, 4x[1,j] + 5x[2,j] + 6x[3,j] <= 19) # only use patterns that fit on block\n",
    "end\n",
    "@constraint(m, sum(x[1,j] for j=1:N) >= 12*scale) # meet demand for pattern 1\n",
    "@constraint(m, sum(x[2,j] for j=1:N) >= 15*scale) # meet demand for pattern 2\n",
    "@constraint(m, sum(x[3,j] for j=1:N) >= 22*scale) # meet demand for pattern 3\n",
    "for j = 1:N\n",
    "    # upper bounds on how many of each pattern can be used (0 if z=0)\n",
    "    @constraint(m, x[1,j] <= 4z[j]) \n",
    "    @constraint(m, x[2,j] <= 3z[j])\n",
    "    @constraint(m, x[3,j] <= 3z[j])\n",
    "end\n",
    "\n",
    "# symmetry-breaking\n",
    "for j = 1:N-1\n",
    "    @constraint(m, z[j] >= z[j+1])\n",
    "end\n",
    "\n",
    "# minimize the total blocks used\n",
    "@objective(m, Min, sum(z[j] for j=1:N))\n",
    "\n",
    "@time(optimize!(m))\n",
    "\n"
   ]
  },
  {
   "cell_type": "markdown",
   "metadata": {},
   "source": [
    "## Second Modeling Approach (Column Generation)"
   ]
  },
  {
   "cell_type": "code",
   "execution_count": 2,
   "metadata": {},
   "outputs": [
    {
     "name": "stdout",
     "output_type": "stream",
     "text": [
      "Academic license - for non-commercial use only - expires 2022-06-27\r\n",
      "  0.003375 seconds (369 allocations: 28.922 KiB)\n"
     ]
    }
   ],
   "source": [
    "# all the columns:\n",
    "A = [ 0 0 1 0 2 1 2 3 4\n",
    "      0 1 0 2 1 2 2 1 0\n",
    "      3 2 2 1 1 0 0 0 0 ]\n",
    "\n",
    "scale = 100000000\n",
    "\n",
    "m = Model(Gurobi.Optimizer)\n",
    "set_optimizer_attribute(m,\"OutputFlag\",0)\n",
    "\n",
    "@variable(m, x[1:9] >= 0, Int)\n",
    "@constraint(m, A*x .>= [12;15;22]*scale)\n",
    "@objective(m, Min, sum(x))\n",
    "@time(optimize!(m))\n"
   ]
  },
  {
   "cell_type": "code",
   "execution_count": null,
   "metadata": {},
   "outputs": [],
   "source": []
  }
 ],
 "metadata": {
  "kernelspec": {
   "display_name": "Julia 1.7.3",
   "language": "julia",
   "name": "julia-1.7"
  },
  "language_info": {
   "file_extension": ".jl",
   "mimetype": "application/julia",
   "name": "julia",
   "version": "1.7.3"
  }
 },
 "nbformat": 4,
 "nbformat_minor": 4
}
