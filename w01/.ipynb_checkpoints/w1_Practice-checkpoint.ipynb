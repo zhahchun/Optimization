{
 "cells": [
  {
   "cell_type": "markdown",
   "id": "bba7d900-d64f-4d16-a0b1-96d7a3e27d74",
   "metadata": {},
   "source": [
    "# Practice Problems - Week 1"
   ]
  },
  {
   "cell_type": "markdown",
   "id": "4fc09605-4688-4aa1-b90b-5230221f878c",
   "metadata": {},
   "source": [
    "## 0.2 (2) LP Basics\n",
    "#### a. Farmer Jane "
   ]
  },
  {
   "cell_type": "code",
   "execution_count": 2,
   "id": "daf16901-aa9b-441a-a57a-b75bee71f4fe",
   "metadata": {},
   "outputs": [
    {
     "data": {
      "text/latex": [
       "$$ w + c \\leq 45 $$"
      ],
      "text/plain": [
       "land_con : w + c <= 45"
      ]
     },
     "execution_count": 2,
     "metadata": {},
     "output_type": "execute_result"
    }
   ],
   "source": [
    "using JuMP, Clp\n",
    "\n",
    "m = Model()\n",
    "\n",
    "# variable for wheat acres and corn acres\n",
    "@variable(m, w >= 0)\n",
    "@variable(m, c >= 0)\n",
    "\n",
    "# objective to maximize proft\n",
    "@objective(m, Max, 200w + 300c)\n",
    "\n",
    "# constraint on the labor availble\n",
    "@constraint(m, labor_con, 3w + 2c <= 100)\n",
    "\n",
    "# constraint on the fertilizer availble\n",
    "@constraint(m, fert_con, 2w + 4c <= 120)\n",
    "\n",
    "# constraint on the land availble\n",
    "@constraint(m, land_con, w + c <= 45)"
   ]
  },
  {
   "cell_type": "code",
   "execution_count": 4,
   "id": "95605856-70d1-4c7c-90d2-aee17af14e87",
   "metadata": {},
   "outputs": [
    {
     "name": "stdout",
     "output_type": "stream",
     "text": [
      "Time to solve this model using Clp: \n",
      "  0.000767 seconds (295 allocations: 21.016 KiB)\n",
      "Plant 19.99999999999999acres of wheat.\n",
      "Plant 20.000000000000007acres of corn.\n",
      "Total profit will be $10000.0\n",
      "Coin0506I Presolve 3 (0) rows, 2 (0) columns and 6 (0) elements\n",
      "Clp0006I 0  Obj 0 Dual inf 500 (2)\n",
      "Clp0006I 3  Obj 10000\n",
      "Clp0000I Optimal - objective value 10000\n",
      "Clp0032I Optimal objective 10000 - 3 iterations time 0.002\n"
     ]
    }
   ],
   "source": [
    "println(\"Time to solve this model using Clp: \")\n",
    "set_optimizer(m, Clp.Optimizer)\n",
    "@time(optimize!(m))\n",
    "\n",
    "println(\"Plant \", value(w), \"acres of wheat.\")\n",
    "println(\"Plant \", value(c), \"acres of corn.\")\n",
    "println(\"Total profit will be \\$\", objective_value(m))"
   ]
  },
  {
   "cell_type": "code",
   "execution_count": 6,
   "id": "138e280b-1c98-43e0-83b9-3d40bc7094b7",
   "metadata": {},
   "outputs": [
    {
     "name": "stdout",
     "output_type": "stream",
     "text": [
      "Time to solve this model using Clp: \n",
      "------------------------------------------------------------------\n",
      "\t       SCS v3.2.4 - Splitting Conic Solver\n",
      "\t(c) Brendan O'Donoghue, Stanford University, 2012\n",
      "------------------------------------------------------------------\n",
      "problem:  variables n: 2, constraints m: 5\n",
      "cones: \t  l: linear vars: 5\n",
      "settings: eps_abs: 1.0e-004, eps_rel: 1.0e-004, eps_infeas: 1.0e-007\n",
      "\t  alpha: 1.50, scale: 1.00e-001, adaptive_scale: 1\n",
      "\t  max_iters: 100000, normalize: 1, rho_x: 1.00e-006\n",
      "\t  acceleration_lookback: 10, acceleration_interval: 10\n",
      "\t  compiled with openmp parallelization enabled\n",
      "lin-sys:  sparse-direct-amd-qdldl\n",
      "\t  nnz(A): 8, nnz(P): 0\n",
      "------------------------------------------------------------------\n",
      " iter | pri res | dua res |   gap   |   obj   |  scale  | time (s)\n",
      "------------------------------------------------------------------\n",
      "     0|2.26e+003 1.45e+002 1.72e+005 -1.02e+005 1.00e-001 1.31e-002 \n",
      "   175|9.24e-003 6.17e-004 2.31e-001 -1.00e+004 3.27e-001 1.66e-002 \n",
      "------------------------------------------------------------------\n",
      "status:  solved\n",
      "timings: total: 1.66e-002s = setup: 9.38e-003s + solve: 7.19e-003s\n",
      "\t lin-sys: 1.34e-004s, cones: 3.29e-005s, accel: 2.71e-003s\n",
      "------------------------------------------------------------------\n",
      "objective = -10000.119817\n",
      "------------------------------------------------------------------\n",
      "  9.635931 seconds (9.26 M allocations: 623.095 MiB, 1.84% gc time, 98.39% compilation time)\n",
      "Plant 19.993516798294255acres of wheat.\n",
      "Plant 20.00510687006417acres of corn.\n",
      "Total profit will be $10000.235420678102\n"
     ]
    }
   ],
   "source": [
    "using SCS\n",
    "\n",
    "println(\"Time to solve this model using SCS: \")\n",
    "set_optimizer(m, SCS.Optimizer)\n",
    "@time(optimize!(m))\n",
    "\n",
    "println(\"Plant \", value(w), \"acres of wheat.\")\n",
    "println(\"Plant \", value(c), \"acres of corn.\")\n",
    "println(\"Total profit will be \\$\", objective_value(m))"
   ]
  },
  {
   "cell_type": "markdown",
   "id": "b52d72f3-a0fa-43c6-ba0b-b064b7062ba8",
   "metadata": {},
   "source": [
    "#### b. re-implement the model"
   ]
  },
  {
   "cell_type": "code",
   "execution_count": 21,
   "id": "481adf32-e42a-4205-8a92-2b4c24d9093f",
   "metadata": {},
   "outputs": [
    {
     "name": "stdout",
     "output_type": "stream",
     "text": [
      "Time to solve this model using Clp: \n",
      "  0.000429 seconds (306 allocations: 21.594 KiB)\n",
      "Build 650.0 football trophies.\n",
      "Build 1100.0 soccer trophies.\n",
      "Build 0.0 karate trophies.\n",
      "Total profit will be $17700.0\n",
      "Coin0506I Presolve 2 (-3) rows, 3 (0) columns and 6 (-3) elements\n",
      "Clp0006I 0  Obj -0 Dual inf 30.999997 (3)\n",
      "Clp0006I 2  Obj 17700\n",
      "Clp0000I Optimal - objective value 17700\n",
      "Coin0511I After Postsolve, objective 17700, infeasibilities - dual 0 (0), primal 0 (0)\n",
      "Clp0032I Optimal objective 17700 - 2 iterations time 0.002, Presolve 0.00\n"
     ]
    }
   ],
   "source": [
    "### 1. Intro\n",
    "using JuMP, Clp\n",
    "\n",
    "m = Model()\n",
    "\n",
    "# variables for football, soccer, and karate trophies\n",
    "@variable(m, f >= 0)\n",
    "@variable(m, s >= 0)\n",
    "@variable(m, k >= 0)\n",
    "\n",
    "# objective to maximize profit\n",
    "@objective(m, Max, 12f + 9s + 10k)\n",
    "\n",
    "# constraint on the wood available\n",
    "@constraint(m, wood_con, 4f + 2s + 3k <= 4800)\n",
    "\n",
    "# constraint on the plaques available\n",
    "@constraint(m, plaque_con, f + s + k <= 1750)\n",
    "\n",
    "# constraint on the brass footballs, soccerballs, and karate available\n",
    "@constraint(m, brass_football_con, f <= 1000)\n",
    "@constraint(m, brass_soccerball_con, s <= 1500)\n",
    "@constraint(m, brass_karate_con, k <= 750)\n",
    "\n",
    "println(\"Time to solve this model using Clp: \")\n",
    "set_optimizer(m, Clp.Optimizer)\n",
    "@time(optimize!(m))\n",
    "\n",
    "println(\"Build \", value(f), \" football trophies.\")\n",
    "println(\"Build \", value(s), \" soccer trophies.\")\n",
    "println(\"Build \", value(k), \" karate trophies.\")\n",
    "println(\"Total profit will be \\$\", objective_value(m))"
   ]
  },
  {
   "cell_type": "code",
   "execution_count": 17,
   "id": "4731ff61-d00e-4b68-84a8-f4c4bd1e1f42",
   "metadata": {},
   "outputs": [],
   "source": [
    "### 2. Modular\n",
    "# an array of symbols (with a colon)\n",
    "trophy_types = [:f, :s, :k]\n",
    "\n",
    "# a dictionary map a key to an element\n",
    "# how much wood and plaque each trophy type uses\n",
    "wood_req = Dict(:f => 4, :s => 2, :k => 3)\n",
    "plaque_req = Dict(:f => 1, :s => 1, :k => 1)\n",
    "\n",
    "# profit produced by each trophy type\n",
    "profit = Dict(:f => 12, :s => 9, :k => 10)\n",
    "\n",
    "# resource available\n",
    "wood_avail = 4800\n",
    "plaque_avail = 1750\n",
    "football_avail = 1000\n",
    "soccer_avail = 1500\n",
    "karate_avail = 750;\n",
    "# semicolons supress output"
   ]
  },
  {
   "cell_type": "code",
   "execution_count": 20,
   "id": "430a3277-5d6e-4162-b204-2df779b1eb22",
   "metadata": {},
   "outputs": [
    {
     "name": "stdout",
     "output_type": "stream",
     "text": [
      "1-dimensional DenseAxisArray{Float64,1,...} with index sets:\n",
      "    Dimension 1, [:f, :s, :k]\n",
      "And data, a 3-element Vector{Float64}:\n",
      "  650.0\n",
      " 1100.0\n",
      "    0.0\n",
      "Total profit will be $17700.0\n",
      "Coin0506I Presolve 2 (-3) rows, 3 (0) columns and 6 (-3) elements\n",
      "Clp0006I 0  Obj -0 Dual inf 30.999997 (3)\n",
      "Clp0006I 2  Obj 17700\n",
      "Clp0000I Optimal - objective value 17700\n",
      "Coin0511I After Postsolve, objective 17700, infeasibilities - dual 0 (0), primal 0 (0)\n",
      "Clp0032I Optimal objective 17700 - 2 iterations time 0.002, Presolve 0.00\n"
     ]
    }
   ],
   "source": [
    "using JuMP, Clp\n",
    "\n",
    "# create a new model object, specifying the solver \n",
    "m = Model(Clp.Optimizer)\n",
    "\n",
    "# trophy variable object is a Dictionary indexed over trophy types\n",
    "@variable(m, trophy[trophy_types] >= 0)\n",
    "\n",
    "@objective(m, Max, sum(profit[i] * trophy[i] for i in trophy_types))\n",
    "\n",
    "@constraint(m, sum(wood_req[i] * trophy[i] for i in trophy_types) <= wood_avail)\n",
    "@constraint(m, sum(plaque_req[i] * trophy[i] for i in trophy_types) <= plaque_avail)\n",
    "@constraint(m, trophy[:f] <= football_avail) \n",
    "@constraint(m, trophy[:s] <= soccer_avail)\n",
    "@constraint(m, trophy[:k] <= karate_avail)\n",
    "\n",
    "# solve instance of model\n",
    "status = optimize!(m)\n",
    "# optimize!(m)\n",
    "\n",
    "# print values of trophy variables \n",
    "println(value.(trophy))\n",
    "# println(value(trophy))\n",
    "println(\"Total profit will be \\$\", objective_value(m))"
   ]
  },
  {
   "cell_type": "code",
   "execution_count": 11,
   "id": "5be3d756-8613-45ac-9d2d-5809175f2937",
   "metadata": {},
   "outputs": [
    {
     "data": {
      "text/plain": [
       "3×5 Named Matrix{Int64}\n",
       "type ╲ resource │    wood   plaque  brass_f  brass_s  brass_k\n",
       "────────────────┼────────────────────────────────────────────\n",
       "football        │       4        1        1        0        0\n",
       "soccer          │       2        1        0        1        0\n",
       "karate          │       3        1        0        0        1"
      ]
     },
     "execution_count": 11,
     "metadata": {},
     "output_type": "execute_result"
    }
   ],
   "source": [
    "### 3. Compact\n",
    "trophy_types = [:football, :soccer, :karate]\n",
    "resources = [:wood, :plaque, :brass_f, :brass_s, :brass_k]\n",
    "profit = Dict(zip(trophy_types, [12, 9, 10]))\n",
    "resource_avail = Dict(zip(resources, [4800, 1750, 1000, 1500, 750]))\n",
    "\n",
    "using NamedArrays\n",
    "\n",
    "trophy_resource_matrix = [4 1 1 0 0\n",
    "                            2 1 0 1 0\n",
    "                            3 1 0 0 1]\n",
    "\n",
    "trophy_resource_NA = NamedArray(trophy_resource_matrix, (trophy_types, resources), (\"type\", \"resource\"))"
   ]
  },
  {
   "cell_type": "code",
   "execution_count": 12,
   "id": "45da565f-ca1e-423e-8c76-2223ac25428a",
   "metadata": {},
   "outputs": [
    {
     "name": "stdout",
     "output_type": "stream",
     "text": [
      "1-dimensional DenseAxisArray{Float64,1,...} with index sets:\n",
      "    Dimension 1, [:football, :soccer, :karate]\n",
      "And data, a 3-element Vector{Float64}:\n",
      "  650.0\n",
      " 1100.0\n",
      "    0.0\n",
      "Total profit will be $17700.0\n",
      "Coin0506I Presolve 2 (-3) rows, 3 (0) columns and 6 (-3) elements\n",
      "Clp0006I 0  Obj -0 Dual inf 30.999997 (3)\n",
      "Clp0006I 2  Obj 17700\n",
      "Clp0000I Optimal - objective value 17700\n",
      "Coin0511I After Postsolve, objective 17700, infeasibilities - dual 0 (0), primal 0 (0)\n",
      "Clp0032I Optimal objective 17700 - 2 iterations time 0.012, Presolve 0.01\n"
     ]
    }
   ],
   "source": [
    "using JuMP, Clp\n",
    "\n",
    "m = Model(Clp.Optimizer)\n",
    "\n",
    "@variable(m, trophy[trophy_types] >= 0)\n",
    "\n",
    "@expression(m, tot_profit, sum(profit[i] * trophy[i] for i in trophy_types))\n",
    "\n",
    "@constraint(m, constr[i in resources], sum(trophy_resource_NA[t, i] * trophy[t] \n",
    "                for t in trophy_types) <= resource_avail[i])\n",
    "\n",
    "@objective(m, Max, tot_profit)\n",
    "\n",
    "optimize!(m)\n",
    "println(value.(trophy))\n",
    "println(\"Total profit will be \\$\", objective_value(m))"
   ]
  },
  {
   "cell_type": "markdown",
   "id": "0341a656-a823-484e-84ee-d14ec427055a",
   "metadata": {},
   "source": [
    "#### c.Stigler Diet Problem"
   ]
  },
  {
   "cell_type": "code",
   "execution_count": 14,
   "id": "03cf96c3-6e9b-4d3c-8e6f-6e89b5a57248",
   "metadata": {},
   "outputs": [
    {
     "name": "stdout",
     "output_type": "stream",
     "text": [
      "1-dimensional DenseAxisArray{Float64,1,...} with index sets:\n",
      "    Dimension 1, String31[\"Wheat Flour (Enriched)\", \"Macaroni\", \"Wheat Cereal (Enriched)\", \"Corn Flakes\", \"Corn Meal\", \"Hominy Grits\", \"Rice\", \"Rolled Oats\", \"White Bread (Enriched)\", \"Whole Wheat Bread\"  …  \"Lima Beans, Dried\", \"Navy Beans, Dried\", \"Coffee\", \"Tea\", \"Cocoa\", \"Chocolate\", \"Sugar\", \"Corn Syrup\", \"Molasses\", \"Strawberry Preserves\"]\n",
      "And data, a 77-element Vector{Float64}:\n",
      " 0.0\n",
      " 0.0\n",
      " 0.0\n",
      " 0.0\n",
      " 0.0\n",
      " 0.0\n",
      " 0.0\n",
      " 0.0\n",
      " 0.0\n",
      " 0.0\n",
      " 0.0\n",
      " 0.0\n",
      " 0.0\n",
      " 0.0\n",
      " 0.0\n",
      " 0.0\n",
      " 0.0\n",
      " 0.0\n",
      " 0.0\n",
      " 0.0\n",
      " 0.0\n",
      " 0.0\n",
      " 0.0\n",
      " 0.0\n",
      " 0.0\n",
      " 0.0\n",
      " 0.0\n",
      " 0.0\n",
      " 0.0\n",
      " 0.0\n",
      " 0.0\n",
      " 0.0\n",
      " 0.0\n",
      " 0.0\n",
      " 0.0\n",
      " 0.0\n",
      " 0.0\n",
      " 0.0\n",
      " 0.0\n",
      " 0.0\n",
      " 0.0\n",
      " 0.0\n",
      " 0.0\n",
      " 0.0\n",
      " 0.0\n",
      " 0.0\n",
      " 0.0\n",
      " 0.0\n",
      " 0.0\n",
      " 0.0\n",
      " 0.0\n",
      " 0.0\n",
      " 0.0\n",
      " 0.0\n",
      " 0.0\n",
      " 0.0\n",
      " 0.0\n",
      " 0.0\n",
      " 0.0\n",
      " 0.0\n",
      " 0.0\n",
      " 0.0\n",
      " 0.0\n",
      " 0.0\n",
      " 0.0\n",
      " 0.0\n",
      " 0.0\n",
      " 0.0\n",
      " 0.0\n",
      " 0.0\n",
      " 0.0\n",
      " 0.0\n",
      " 0.0\n",
      " 0.0\n",
      " 0.0\n",
      " 0.0\n",
      " 0.0\n",
      "Total cost will be $-0.0\n",
      "Coin0506I Presolve 0 (-9) rows, 0 (-77) columns and 0 (-570) elements\n",
      "Clp3002W Empty problem - 0 rows, 0 columns and 0 elements\n",
      "Clp0000I Optimal - objective value -0\n",
      "Coin0511I After Postsolve, objective 0, infeasibilities - dual 0 (0), primal 0 (0)\n",
      "Clp0032I Optimal objective 0 - 0 iterations time 0.002, Presolve 0.00\n"
     ]
    }
   ],
   "source": [
    "#You might need to run \"Pkg.add(...)\" before using these packages\n",
    "using DataFrames, CSV, NamedArrays\n",
    "\n",
    "# load CSV file into a DataFrame object (similar to a NamedArray)\n",
    "df = CSV.read(\"stigler.csv\", DataFrame, delim =',');\n",
    "\n",
    "# the names of the DataFrame (header) are the nutrients\n",
    "nutrient_type = propertynames(df)[2:end]\n",
    "# println(\"nutrients: \", nutrients)\n",
    "\n",
    "# create a list of foods from the diet array\n",
    "food_type = convert(Array,df[2:end,1]) # turn dataframe into Array\n",
    "# println(\"foods: \", foods)\n",
    "\n",
    "# create a dictionary of the min requirement of each nutrient\n",
    "# get the first row of the content (not the header), so here is min requirement of MINIMUM REQUIRED\n",
    "min_daily_req = Dict(zip(nutrient_type,df[1,2:end]))\n",
    "# println(\"min_daily_req: \", min_daily_req)\n",
    "\n",
    "# create a NamedArray that specifies how much of each nutrient each food provides\n",
    "# using NamedArrays\n",
    "food_nutrient_matrix = Matrix(df[2:end,2:end]) # turn dataframe into Array\n",
    "# rows are foods, columns are nutrients\n",
    "food_nutrient_NA = NamedArray(food_nutrient_matrix, (food_type, nutrient_type), \n",
    "                        (\"foods\",\"nutrients\"))\n",
    "# println(\"food_nutrient_array: \", food_nutrient_array)\n",
    "\n",
    "using JuMP,  Clp\n",
    "m = Model(Clp.Optimizer) # create model\n",
    "\n",
    "# constraint: sum(food*nutrient) >= min_daily_req -----> -sum(food*nutrient) <= -min_daily_req\n",
    "# objective: min sum(food) -----> -max -sum(food)\n",
    "# variable: food >= 0\n",
    "# result * (-1) * 365.25\n",
    "@variable(m, food[food_type] >= 0)\n",
    "\n",
    "@expression(m, tot_cost, -sum(food[f] for f in food_type))\n",
    "\n",
    "@constraint(m, constr[n in nutrient_type], -sum(food_nutrient_NA[f,n]*food[f] \n",
    "                for f in food_type) <= min_daily_req[n])\n",
    "\n",
    "@objective(m, Max, tot_cost)\n",
    "\n",
    "optimize!(m)\n",
    "\n",
    "println(value.(food))\n",
    "println(\"Total cost will be \\$\", objective_value(m)*(-1)*365.25)"
   ]
  },
  {
   "cell_type": "code",
   "execution_count": null,
   "id": "36bcc5b8-4e8c-463c-9849-d27f834f88f1",
   "metadata": {},
   "outputs": [],
   "source": []
  },
  {
   "cell_type": "code",
   "execution_count": null,
   "id": "fea9a1db-5ca6-4ab1-b329-cbe41f29287e",
   "metadata": {},
   "outputs": [],
   "source": []
  },
  {
   "cell_type": "code",
   "execution_count": null,
   "id": "67a5b194-1147-41fd-a674-4ce63846fc1d",
   "metadata": {},
   "outputs": [],
   "source": []
  },
  {
   "cell_type": "code",
   "execution_count": null,
   "id": "3673cdb8-5183-4223-bc43-13ef6f7f964f",
   "metadata": {},
   "outputs": [],
   "source": []
  },
  {
   "cell_type": "code",
   "execution_count": null,
   "id": "2bc5f342-e035-4407-b181-5dd1c56dc87d",
   "metadata": {},
   "outputs": [],
   "source": []
  },
  {
   "cell_type": "code",
   "execution_count": null,
   "id": "14efc840-27e7-4b56-a2b2-b768b55493cd",
   "metadata": {},
   "outputs": [],
   "source": []
  }
 ],
 "metadata": {
  "kernelspec": {
   "display_name": "Julia 1.10.4",
   "language": "julia",
   "name": "julia-1.10"
  },
  "language_info": {
   "file_extension": ".jl",
   "mimetype": "application/julia",
   "name": "julia",
   "version": "1.10.4"
  }
 },
 "nbformat": 4,
 "nbformat_minor": 5
}
