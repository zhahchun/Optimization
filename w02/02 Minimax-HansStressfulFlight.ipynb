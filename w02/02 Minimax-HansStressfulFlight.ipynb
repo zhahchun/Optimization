{
 "cells": [
  {
   "cell_type": "markdown",
   "metadata": {},
   "source": [
    "# A Minimax Example - Han's Stressful Flight\n",
    "\n",
    "Han Solo is flying the Millennium Falcon through an asteroid field. His passengers' stress levels are functions of the speed Han flies (we’ll call the speed $x$):\n",
    "\n",
    " * Leia: $−2𝑥 + 20$\n",
    " * Chewbacca: $−\\frac1{10}𝑥 + 10$\n",
    " * C-3P0: $𝑥 + 1.75$\n",
    " \n",
    "To make his life easier, Han wants to minimize the maximum stress level of his passengers. The Falcon has a maximum speed of 12 parsecs/min. He must go at least 6 parsecs/min to outrun the Empire. How fast should Han fly?\n"
   ]
  },
  {
   "cell_type": "code",
   "execution_count": 1,
   "metadata": {},
   "outputs": [
    {
     "name": "stdout",
     "output_type": "stream",
     "text": [
      "Han should fly at 7.5 parsecs/min\n",
      "Leia's stress: 5.0\n",
      "Chewbacca's stress: 9.25\n",
      "C-3P0's stress: 9.25\n",
      "Minimax stress level: 9.25\n",
      "Coin0506I Presolve 3 (-2) rows, 2 (0) columns and 6 (-2) elements\n",
      "Clp0006I 0  Obj 8.7 Primal inf 2.2135934 (1)\n",
      "Clp0006I 2  Obj 9.25\n",
      "Clp0000I Optimal - objective value 9.25\n",
      "Coin0511I After Postsolve, objective 9.25, infeasibilities - dual 0 (0), primal 0 (0)\n",
      "Clp0032I Optimal objective 9.25 - 2 iterations time 0.022, Presolve 0.01\n"
     ]
    }
   ],
   "source": [
    "using JuMP, Clp\n",
    "\n",
    "m = Model(Clp.Optimizer)\n",
    "\n",
    "@variable(m, x >= 0) # variable representing the speed Han flies\n",
    "@variable(m, t) # epigraph trick variable\n",
    "\n",
    "# minimize the epigraph variable t\n",
    "@objective(m, Min, t)\n",
    "\n",
    "@constraint(m, t >= -2*x + 20) # t must be >= Leia's stress function\n",
    "@constraint(m, t >= -(1/10)*x + 10) # t must be >= Chewbacca's stress function\n",
    "@constraint(m, t >= x + 1.75) # t must be >= C3P0's stress function\n",
    "@constraint(m, x >= 6) # Han has to fly fast enough to outrun the Empire\n",
    "@constraint(m, x <= 12) # Han can't exceed the Falcon's maximum speed\n",
    "\n",
    "# solve this instance of the minimax problem\n",
    "optimize!(m)\n",
    "\n",
    "# to help make the output neater, we can round the solution values to 2 decimal places\n",
    "# also note that we use each person's stress function to calculate their stress at the final speed\n",
    "println(\"Han should fly at \", round(value(x),digits=2), \" parsecs/min\")\n",
    "println(\"Leia's stress: \", -2*round(value(x),digits=2) + 20)\n",
    "println(\"Chewbacca's stress: \", -(1/10)*value(x) + 10)\n",
    "println(\"C-3P0's stress: \", round(value(x),digits=2) + 1.75)\n",
    "\n",
    "# the value of t tells us what the minimized maximum stress level is\n",
    "println(\"Minimax stress level: \", round(value(t),digits=2))"
   ]
  },
  {
   "cell_type": "code",
   "execution_count": null,
   "metadata": {},
   "outputs": [],
   "source": []
  }
 ],
 "metadata": {
  "kernelspec": {
   "display_name": "Julia 1.7.3",
   "language": "julia",
   "name": "julia-1.7"
  },
  "language_info": {
   "file_extension": ".jl",
   "mimetype": "application/julia",
   "name": "julia",
   "version": "1.7.3"
  }
 },
 "nbformat": 4,
 "nbformat_minor": 4
}
