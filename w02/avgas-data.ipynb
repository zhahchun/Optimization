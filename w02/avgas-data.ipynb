{
 "cells": [
  {
   "cell_type": "code",
   "execution_count": 1,
   "id": "7f62d63a",
   "metadata": {},
   "outputs": [],
   "source": [
    "using Random\n",
    "\n",
    "\n",
    "P = 17 # number of raw inputs\n",
    "T = 6 # number raw inputs that must be treated\n",
    "\n",
    "inputs = 1:P # set of raw inputs\n",
    "treat = 1:T # for simplicity, first T inputs must be treated\n",
    "outputs = 1:2 # set of products\n",
    "\n",
    "# production costs (per gallon)\n",
    "treat_cost = 2.0\n",
    "blend_cost = 1.5\n",
    "jetA_prod_cost = 3.0\n",
    "onehunLL_prod_cost = 2.4\n",
    "\n",
    "# set a seed for generating consistent data\n",
    "seed = 9834573\n",
    "Random.seed!(seed)\n",
    "\n",
    "# demand for each product\n",
    "demand = [Random.rand(5000:10000) for j in outputs]\n",
    "\n",
    "# cost of each input ($/gallon)\n",
    "rm_cost = [Random.rand(1:5) for i in inputs]\n",
    "\n",
    "# availability of each input (gallons)\n",
    "avail = [Random.rand(1000:8000) for i in inputs]\n",
    "\n",
    "# percent of requirement 1 in each input\n",
    "req1_per = [round(2.0*Random.rand()+5,digits=2) for i in inputs]\n",
    "\n",
    "# percent of requirement 2 in each input\n",
    "req2_per = [round(4*Random.rand()+3,digits=2) for i in inputs]\n",
    "\n",
    "# max percent of requirement 1 in each output\n",
    "req1_lim = 5.5\n",
    "# max percent of requirement 2 in each output\n",
    "req2_lim = 5.9\n",
    ";"
   ]
  },
  {
   "cell_type": "code",
   "execution_count": null,
   "id": "f4065d7c",
   "metadata": {},
   "outputs": [],
   "source": []
  }
 ],
 "metadata": {
  "kernelspec": {
   "display_name": "Julia 1.10.4",
   "language": "julia",
   "name": "julia-1.10"
  },
  "language_info": {
   "file_extension": ".jl",
   "mimetype": "application/julia",
   "name": "julia",
   "version": "1.10.4"
  }
 },
 "nbformat": 4,
 "nbformat_minor": 5
}
